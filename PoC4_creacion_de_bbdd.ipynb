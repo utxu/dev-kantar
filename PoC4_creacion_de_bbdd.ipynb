{
 "cells": [
  {
   "cell_type": "markdown",
   "metadata": {},
   "source": [
    " Hemos de realizar la instalación del motor Postgre. Una vez instalado, hemos de incluirlo en el PATH de windows para poder trabajar desde la powerShell. Lo que incluimos en el PATH es la carpeta bin del directorio de Postgre recién descargado. Crearemos un superusuario y una base de datos llamada transcripciones_db"
   ]
  },
  {
   "cell_type": "markdown",
   "metadata": {},
   "source": [
    "Una vez que seguimos los pasos con gpt, nos indica que para concectarnos con una aplicación externa como python a la BBDD, hemos de segior unos pasos (siempre que python lo tengamos en el PATH). Además hemos de tener pip en el PATH.\n",
    "\n",
    "1- pip install psycopg2-binary\n",
    "\n",
    "2- Configura los detalles de conexión: Necesitarás algunos datos para conectarte a tu base de datos:\n",
    "\n",
    "Nombre del host: Probablemente localhost, si PostgreSQL está en tu misma máquina.\n",
    "\n",
    "Puerto: Normalmente, PostgreSQL usa el puerto 5432.\n",
    "\n",
    "Nombre de usuario y contraseña: Los que configuraste al crear tu base de datos.\n",
    "\n",
    "Nombre de la base de datos: Por ejemplo, transcripciones_db.\n",
    "\n"
   ]
  },
  {
   "cell_type": "code",
   "execution_count": 1,
   "metadata": {},
   "outputs": [
    {
     "name": "stdout",
     "output_type": "stream",
     "text": [
      "Ocurrió un error: \n"
     ]
    },
    {
     "ename": "NameError",
     "evalue": "name 'conn' is not defined",
     "output_type": "error",
     "traceback": [
      "\u001b[1;31m---------------------------------------------------------------------------\u001b[0m",
      "\u001b[1;31mNameError\u001b[0m                                 Traceback (most recent call last)",
      "Cell \u001b[1;32mIn[1], line 42\u001b[0m\n\u001b[0;32m     38\u001b[0m     \u001b[38;5;28mprint\u001b[39m(\u001b[38;5;124m\"\u001b[39m\u001b[38;5;124mOcurrió un error:\u001b[39m\u001b[38;5;124m\"\u001b[39m, e)\n\u001b[0;32m     40\u001b[0m \u001b[38;5;28;01mfinally\u001b[39;00m:\n\u001b[0;32m     41\u001b[0m     \u001b[38;5;66;03m# Cerrar la conexión\u001b[39;00m\n\u001b[1;32m---> 42\u001b[0m     \u001b[38;5;28;01mif\u001b[39;00m \u001b[43mconn\u001b[49m:\n\u001b[0;32m     43\u001b[0m         cursor\u001b[38;5;241m.\u001b[39mclose()\n\u001b[0;32m     44\u001b[0m         conn\u001b[38;5;241m.\u001b[39mclose()\n",
      "\u001b[1;31mNameError\u001b[0m: name 'conn' is not defined"
     ]
    }
   ],
   "source": [
    "import psycopg2\n",
    "\n",
    "# Datos de conexión\n",
    "host = \"localhost\"  # O dirección IP del servidor PostgreSQL\n",
    "database = \"transcripciones_db\"  # Nombre de tu base de datos\n",
    "user = \"utxu\"  # Usuario que creaste\n",
    "password = \"utxuychano!1981.\"  # Contraseña del usuario\n",
    "\n",
    "try:\n",
    "    # Establecer conexión\n",
    "    conn = psycopg2.connect(\n",
    "        host=host,\n",
    "        database=database,\n",
    "        user=user,\n",
    "        password=password\n",
    "    )\n",
    "    print(\"Conexión establecida con PostgreSQL\")\n",
    "\n",
    "    # Crear un cursor para ejecutar consultas\n",
    "    cursor = conn.cursor()\n",
    "\n",
    "    # Crear tabla (puedes modificar esta estructura)\n",
    "    crear_tabla = \"\"\"\n",
    "    CREATE TABLE IF NOT EXISTS transcripciones (\n",
    "        id SERIAL PRIMARY KEY,\n",
    "        archivo_audio TEXT NOT NULL,\n",
    "        texto JSON NOT NULL,\n",
    "        timestamp_inicio TIMESTAMP NOT NULL\n",
    "    );\n",
    "    \"\"\"\n",
    "    cursor.execute(crear_tabla)\n",
    "    print(\"Tabla 'transcripciones' creada o ya existe.\")\n",
    "\n",
    "    # Confirmar los cambios\n",
    "    conn.commit()\n",
    "\n",
    "except Exception as e:\n",
    "    print(\"Ocurrió un error:\", e)\n",
    "\n",
    "finally:\n",
    "    # Cerrar la conexión\n",
    "    if conn:\n",
    "        cursor.close()\n",
    "        conn.close()\n",
    "        print(\"Conexión cerrada\")\n"
   ]
  },
  {
   "cell_type": "code",
   "execution_count": 8,
   "metadata": {},
   "outputs": [
    {
     "name": "stdout",
     "output_type": "stream",
     "text": [
      "Conexión establecida con PostgreSQL\n",
      "Tabla 'transcripciones' creada o ya existe.\n",
      "Conexión cerrada\n"
     ]
    }
   ],
   "source": [
    "import psycopg2\n",
    "\n",
    "# Datos de conexión\n",
    "host = \"localhost\"  # O dirección IP del servidor PostgreSQL\n",
    "database = \"transcripciones_db\"  # Nombre de tu base de datos\n",
    "user = \"utxu\"  # Usuario que creaste\n",
    "password = \"utxuychano1981!.\"  # Contraseña del usuario\n",
    "\n",
    "# Inicializar la variable conn\n",
    "conn = None\n",
    "\n",
    "try:\n",
    "    # Establecer conexión\n",
    "    conn = psycopg2.connect(\n",
    "        host=host,\n",
    "        database=database,\n",
    "        user=user,\n",
    "        password=password\n",
    "    )\n",
    "    print(\"Conexión establecida con PostgreSQL\")\n",
    "\n",
    "    # Crear un cursor para ejecutar consultas\n",
    "    cursor = conn.cursor()\n",
    "\n",
    "    # Crear tabla (puedes modificar esta estructura)\n",
    "    crear_tabla = \"\"\"\n",
    "    CREATE TABLE IF NOT EXISTS transcripciones (\n",
    "        id SERIAL PRIMARY KEY,\n",
    "        archivo_audio TEXT NOT NULL,\n",
    "        texto JSON NOT NULL,\n",
    "        timestamp_inicio TIMESTAMP NOT NULL\n",
    "    );\n",
    "    \"\"\"\n",
    "    cursor.execute(crear_tabla)\n",
    "    print(\"Tabla 'transcripciones' creada o ya existe.\")\n",
    "\n",
    "    # Confirmar los cambios\n",
    "    conn.commit()\n",
    "\n",
    "except Exception as e:\n",
    "    print(\"Ocurrió un error:\", e)\n",
    "\n",
    "finally:\n",
    "    # Cerrar la conexión solo si se estableció\n",
    "    if conn is not None:\n",
    "        cursor.close()\n",
    "        conn.close()\n",
    "        print(\"Conexión cerrada\")\n"
   ]
  },
  {
   "cell_type": "markdown",
   "metadata": {},
   "source": [
    "Antes de que el script anterior funcionara, me he tenido que pelear bastante dentro de postgre para crear permisos de usuario para que pudiera crear esa tabla de transcripciones. Queda dicho pues, que hay mucho trabajo de ocnfiuración de usuario en la base de datos."
   ]
  },
  {
   "cell_type": "markdown",
   "metadata": {},
   "source": [
    "Trataremos de crear una tabla con las columnas sufucientes para tener nuestera informacion organizada: transcripcion, hora, id.. etc. Vamos a probar a leer un archivo JSOn provenientes de las transcripciones anteiorres, e insertarlo en la nueva tbala de la bbdd:"
   ]
  },
  {
   "cell_type": "code",
   "execution_count": 12,
   "metadata": {},
   "outputs": [
    {
     "data": {
      "text/plain": [
       "'c:\\\\Users\\\\34676\\\\Desktop\\\\dev_projects\\\\dev_kantar'"
      ]
     },
     "execution_count": 12,
     "metadata": {},
     "output_type": "execute_result"
    }
   ],
   "source": [
    "import os\n",
    "\n",
    "os.getcwd()"
   ]
  },
  {
   "cell_type": "code",
   "execution_count": 15,
   "metadata": {},
   "outputs": [
    {
     "name": "stdout",
     "output_type": "stream",
     "text": [
      "El archivo transcripciones/transcripcion_20241125_234837.json existe.\n"
     ]
    }
   ],
   "source": [
    "import os\n",
    "\n",
    "archivo = 'transcripciones/transcripcion_20241125_234837.json'\n",
    "\n",
    "if os.path.exists(archivo):\n",
    "    print(f'El archivo {archivo} existe.')\n",
    "else:\n",
    "    print(f'El archivo {archivo} NO existe.')\n",
    "\n"
   ]
  },
  {
   "cell_type": "code",
   "execution_count": 16,
   "metadata": {},
   "outputs": [
    {
     "name": "stdout",
     "output_type": "stream",
     "text": [
      "Ruta actual: c:\\Users\\34676\\Desktop\\dev_projects\\dev_kantar\n",
      "Datos del archivo: {'metadata': {'archivo_audio': 'grabaciones\\\\audio_20241125_234837.wav', 'timestamp_inicio': '20241125_234837', 'duracion_fragmento': 60}, 'transcription': [{'timestamp': 0.4400000000000006, 'text': ' Â¿QuÃ© es, Cazarrito?'}, {'timestamp': 1.8600000000000008, 'text': ' Para hacer las mivas.'}, {'timestamp': 3.38, 'text': ' Y uno es un poquito de nendo, bastante liches.'}, {'timestamp': 5.88, 'text': ' Â¿QuÃ© infusione esto?'}, {'timestamp': 7.44, 'text': ' Â¿QuÃ© me te lo hago?'}, {'timestamp': 8.38, 'text': ' Â¿Tien por lo?'}, {'timestamp': 11.24, 'text': ' Mira que estÃ¡n no besos con el de muy todo, eh.'}, {'timestamp': 13.5, 'text': ' Debe un beso con el de mejor.'}, {'timestamp': 15.08, 'text': ' Esto, rete.'}, {'timestamp': 16.96, 'text': ' Si hace lo que se me olvidÃ³ en el discocho,'}, {'timestamp': 19.14, 'text': ' la mantequilla,'}, {'timestamp': 20.6, 'text': ' creo que no pasaron nada.'}, {'timestamp': 22.38, 'text': ' Â¡Tocan ahÃ\\xad, venga!'}, {'timestamp': 27.54, 'text': ' Â¡8, guca!'}, {'timestamp': 28.32, 'text': ' Â¡Hoy!'}, {'timestamp': 29.26, 'text': ' Â¡Ya le he quedado por todos los!'}, {'timestamp': 30.9, 'text': ' Â¡Hoy ya le he llegado hasta cocina!'}, {'timestamp': 32.84, 'text': ' Oye, estÃ¡ en MonagÃ¼illo loco por saber quÃ© vais a hacer.'}, {'timestamp': 35.82, 'text': ' Pues en Cazarrito, en un discocho de chocolate,'}, {'timestamp': 38.68, 'text': ' vale que era como el sandwich,'}, {'timestamp': 40.32, 'text': ' vale, y con un poquito de crema inglesa,'}, {'timestamp': 42.36, 'text': ' si comenzana, pasa que no era asÃ\\xad.'}, {'timestamp': 44.9, 'text': ' O sea, esto pocho lo estÃ¡ haciendo una cosa espectacular.'}, {'timestamp': 47.86, 'text': ' No sÃ© de una cosa,'}, {'timestamp': 48.9, 'text': ' como le atar por casa, Â¿sabes?'}, {'timestamp': 51.1, 'text': ' Pero estÃ¡is haciendo el bizcocho,'}, {'timestamp': 52.56, 'text': ' si los denÃ©is en el horno, es todo.'}, {'timestamp': 54.04, 'text': ' O sea, que ya vais por el bizcocho ya la...'}, {'timestamp': 55.94, 'text': ' Esa es la historia de mi cuanto.'}, {'timestamp': 58.02, 'text': ' Se me olvidÃ³ la mantequilla.'}]}\n"
     ]
    }
   ],
   "source": [
    "import json\n",
    "import os\n",
    "\n",
    "# Verificar la ruta actual (opcional)\n",
    "print(\"Ruta actual:\", os.getcwd())\n",
    "\n",
    "# Ruta del archivo JSON\n",
    "archivo_json = 'transcripciones/transcripcion_20241125_234837.json'\n",
    "\n",
    "# Verificar si el archivo existe\n",
    "if os.path.exists(archivo_json):\n",
    "    # Abrir y leer el archivo JSON\n",
    "    with open(archivo_json, 'r') as file:\n",
    "        data = json.load(file)\n",
    "    print(\"Datos del archivo:\", data)\n",
    "else:\n",
    "    print(f\"El archivo {archivo_json} no se encuentra.\")\n"
   ]
  },
  {
   "cell_type": "code",
   "execution_count": 22,
   "metadata": {},
   "outputs": [
    {
     "name": "stdout",
     "output_type": "stream",
     "text": [
      "Hora de inicio: 2024-11-25 23:48:37\n"
     ]
    }
   ],
   "source": [
    "from datetime import datetime\n",
    "\n",
    "# Nombre del archivo JSON\n",
    "nombre_archivo = \"transcripcion_20241125_234837.json\"\n",
    "\n",
    "# Extraer la parte del timestamp (20241125_234837)\n",
    "timestamp = nombre_archivo.split('_')[1] + \"_\" + nombre_archivo.split('_')[2].split('.')[0]\n",
    "\n",
    "# Convertir el timestamp a un objeto datetime\n",
    "hora_inicio = datetime.strptime(timestamp, \"%Y%m%d_%H%M%S\")\n",
    "print(\"Hora de inicio:\", hora_inicio)\n"
   ]
  },
  {
   "cell_type": "code",
   "execution_count": 25,
   "metadata": {},
   "outputs": [
    {
     "name": "stdout",
     "output_type": "stream",
     "text": [
      "transcripciones/transcripcion_20241125_234837.json\n"
     ]
    }
   ],
   "source": [
    "nombre_archivo = \"transcripciones/transcripcion_20241125_234837.json\"\n",
    "print(nombre_archivo)"
   ]
  },
  {
   "cell_type": "code",
   "execution_count": 26,
   "metadata": {},
   "outputs": [
    {
     "name": "stdout",
     "output_type": "stream",
     "text": [
      "Ruta actual: c:\\Users\\34676\\Desktop\\dev_projects\\dev_kantar\n"
     ]
    }
   ],
   "source": [
    "import os\n",
    "\n",
    "# Mostrar la ruta actual de ejecución\n",
    "print(\"Ruta actual:\", os.getcwd())\n"
   ]
  },
  {
   "cell_type": "code",
   "execution_count": 29,
   "metadata": {},
   "outputs": [],
   "source": [
    "nombre_archivo = \"c:/Users/34676/Desktop/dev_projects/dev_kantar/transcripciones\"\n"
   ]
  },
  {
   "cell_type": "code",
   "execution_count": 30,
   "metadata": {},
   "outputs": [
    {
     "name": "stdout",
     "output_type": "stream",
     "text": [
      "Hora de inicio: 2024-11-25 23:48:37\n",
      "2024-11-25 23:48:37.440000:  ¿Qué es, Cazarrito?\n",
      "2024-11-25 23:48:38.860000:  Para hacer las mivas.\n",
      "2024-11-25 23:48:40.380000:  Y uno es un poquito de nendo, bastante liches.\n",
      "2024-11-25 23:48:42.880000:  ¿Qué infusione esto?\n",
      "2024-11-25 23:48:44.440000:  ¿Qué me te lo hago?\n",
      "2024-11-25 23:48:45.380000:  ¿Tien por lo?\n",
      "2024-11-25 23:48:48.240000:  Mira que están no besos con el de muy todo, eh.\n",
      "2024-11-25 23:48:50.500000:  Debe un beso con el de mejor.\n",
      "2024-11-25 23:48:52.080000:  Esto, rete.\n",
      "2024-11-25 23:48:53.960000:  Si hace lo que se me olvidó en el discocho,\n",
      "2024-11-25 23:48:56.140000:  la mantequilla,\n",
      "2024-11-25 23:48:57.600000:  creo que no pasaron nada.\n",
      "2024-11-25 23:48:59.380000:  ¡Tocan ahí, venga!\n",
      "2024-11-25 23:49:04.540000:  ¡8, guca!\n",
      "2024-11-25 23:49:05.320000:  ¡Hoy!\n",
      "2024-11-25 23:49:06.260000:  ¡Ya le he quedado por todos los!\n",
      "2024-11-25 23:49:07.900000:  ¡Hoy ya le he llegado hasta cocina!\n",
      "2024-11-25 23:49:09.840000:  Oye, está en Monagüillo loco por saber qué vais a hacer.\n",
      "2024-11-25 23:49:12.820000:  Pues en Cazarrito, en un discocho de chocolate,\n",
      "2024-11-25 23:49:15.680000:  vale que era como el sandwich,\n",
      "2024-11-25 23:49:17.320000:  vale, y con un poquito de crema inglesa,\n",
      "2024-11-25 23:49:19.360000:  si comenzana, pasa que no era así.\n",
      "2024-11-25 23:49:21.900000:  O sea, esto pocho lo está haciendo una cosa espectacular.\n",
      "2024-11-25 23:49:24.860000:  No sé de una cosa,\n",
      "2024-11-25 23:49:25.900000:  como le atar por casa, ¿sabes?\n",
      "2024-11-25 23:49:28.100000:  Pero estáis haciendo el bizcocho,\n",
      "2024-11-25 23:49:29.560000:  si los denéis en el horno, es todo.\n",
      "2024-11-25 23:49:31.040000:  O sea, que ya vais por el bizcocho ya la...\n",
      "2024-11-25 23:49:32.940000:  Esa es la historia de mi cuanto.\n",
      "2024-11-25 23:49:35.020000:  Se me olvidó la mantequilla.\n"
     ]
    }
   ],
   "source": [
    "import os\n",
    "import json\n",
    "from datetime import datetime, timedelta\n",
    "\n",
    "# Ruta al archivo JSON\n",
    "nombre_archivo = \"transcripciones/transcripcion_20241125_234837.json\"\n",
    "\n",
    "# Verificar si el archivo existe\n",
    "if not os.path.exists(nombre_archivo):\n",
    "    print(f\"Archivo no encontrado: {nombre_archivo}\")\n",
    "else:\n",
    "    # Procesar el archivo JSON\n",
    "    with open(nombre_archivo, \"r\", encoding=\"utf-8\") as archivo_json:\n",
    "        data = json.load(archivo_json)\n",
    "\n",
    "    # Extraer el timestamp del nombre del archivo\n",
    "    timestamp = nombre_archivo.split('_')[1] + \"_\" + nombre_archivo.split('_')[2].split('.')[0]\n",
    "    hora_inicio = datetime.strptime(timestamp, \"%Y%m%d_%H%M%S\")\n",
    "    print(\"Hora de inicio:\", hora_inicio)\n",
    "\n",
    "    # Procesar transcripción\n",
    "    for entrada in data[\"transcription\"]:\n",
    "        timestamp_relativo = entrada[\"timestamp\"]  # Tiempo relativo en segundos\n",
    "        hora_fragmento = hora_inicio + timedelta(seconds=timestamp_relativo)\n",
    "        print(f\"{hora_fragmento}: {entrada['text']}\")\n"
   ]
  },
  {
   "cell_type": "markdown",
   "metadata": {},
   "source": [
    "Para entrsar como usuario con permisos en la bbdd:\n",
    "\n",
    "psql -U utxu -d transcripciones_db\n",
    "\n",
    "Desde aquí puedo crear tablas, darles esquemas, cols.. etc.\n",
    "\n",
    "Ahora creo la tabla que deseo con el siguiente comando:\n",
    "\n",
    "DROP TABLE IF EXISTS transcripciones;\n",
    "\n",
    "CREATE TABLE transcripciones (\n",
    "    hora TIMESTAMP NOT NULL,\n",
    "    tiempo_original FLOAT NOT NULL,\n",
    "    texto TEXT NOT NULL\n",
    ");\n",
    "\n",
    "Verificams que se ha creado:\n",
    "\n",
    "\\d transcripciones\n",
    "\n",
    "Ahora insertsmos el codigo python para insertar los datos en la tbala:\n",
    "\n",
    "\n",
    "\n",
    "\n",
    "\n"
   ]
  },
  {
   "cell_type": "code",
   "execution_count": 1,
   "metadata": {},
   "outputs": [
    {
     "name": "stdout",
     "output_type": "stream",
     "text": [
      "Datos insertados correctamente en la tabla 'transcripciones'.\n",
      "Conexión con PostgreSQL cerrada.\n"
     ]
    }
   ],
   "source": [
    "import os\n",
    "import json\n",
    "from datetime import datetime, timedelta\n",
    "import psycopg2\n",
    "\n",
    "# Configuración de la conexión a PostgreSQL\n",
    "conexion_config = {\n",
    "    \"host\": \"localhost\",\n",
    "    \"dbname\": \"transcripciones_db\",\n",
    "    \"user\": \"utxu\",\n",
    "    \"password\": \"utxuychano1981!.\",\n",
    "    \"port\": \"5432\"\n",
    "}\n",
    "\n",
    "# Ruta al archivo JSON\n",
    "nombre_archivo = \"transcripciones/transcripcion_20241125_234837.json\"\n",
    "\n",
    "try:\n",
    "    # Conectar a PostgreSQL\n",
    "    conn = psycopg2.connect(**conexion_config)\n",
    "    cursor = conn.cursor()\n",
    "\n",
    "    # Verificar si el archivo existe\n",
    "    if not os.path.exists(nombre_archivo):\n",
    "        print(f\"Archivo no encontrado: {nombre_archivo}\")\n",
    "    else:\n",
    "        # Leer y cargar el archivo JSON\n",
    "        with open(nombre_archivo, \"r\", encoding=\"utf-8\") as archivo_json:\n",
    "            data = json.load(archivo_json)\n",
    "\n",
    "        # Extraer el timestamp del nombre del archivo\n",
    "        timestamp = nombre_archivo.split('_')[1] + \"_\" + nombre_archivo.split('_')[2].split('.')[0]\n",
    "        hora_inicio = datetime.strptime(timestamp, \"%Y%m%d_%H%M%S\")\n",
    "\n",
    "        # Insertar cada entrada de la transcripción en la tabla\n",
    "        for entrada in data[\"transcription\"]:\n",
    "            timestamp_relativo = entrada[\"timestamp\"]  # Tiempo relativo en segundos\n",
    "            hora_fragmento = hora_inicio + timedelta(seconds=timestamp_relativo)\n",
    "            texto = entrada[\"text\"]\n",
    "\n",
    "            # Insertar en la tabla transcripciones\n",
    "            cursor.execute(\n",
    "                \"\"\"\n",
    "                INSERT INTO transcripciones (hora, tiempo_original, texto)\n",
    "                VALUES (%s, %s, %s)\n",
    "                \"\"\",\n",
    "                (hora_fragmento, timestamp_relativo, texto)\n",
    "            )\n",
    "\n",
    "        # Confirmar los cambios en la base de datos\n",
    "        conn.commit()\n",
    "        print(\"Datos insertados correctamente en la tabla 'transcripciones'.\")\n",
    "\n",
    "except (Exception, psycopg2.Error) as e:\n",
    "    print(\"Ocurrió un error al interactuar con PostgreSQL:\", e)\n",
    "\n",
    "finally:\n",
    "    # Cerrar la conexión\n",
    "    if conn:\n",
    "        cursor.close()\n",
    "        conn.close()\n",
    "        print(\"Conexión con PostgreSQL cerrada.\")\n"
   ]
  },
  {
   "cell_type": "markdown",
   "metadata": {},
   "source": [
    "Los retos siguientes son varios. UNo de ellos es el encoding. Otro es instalar un cliente como TalPlus para ser más comodo el revisar datos, tablas, etc.. Y ek más ambicioso, al que debemos ir, es a guardar unas tablas equivalentes, epro no de transcirpciones, sino de fingerprints. "
   ]
  },
  {
   "cell_type": "code",
   "execution_count": null,
   "metadata": {},
   "outputs": [],
   "source": []
  }
 ],
 "metadata": {
  "kernelspec": {
   "display_name": "Python 3",
   "language": "python",
   "name": "python3"
  },
  "language_info": {
   "codemirror_mode": {
    "name": "ipython",
    "version": 3
   },
   "file_extension": ".py",
   "mimetype": "text/x-python",
   "name": "python",
   "nbconvert_exporter": "python",
   "pygments_lexer": "ipython3",
   "version": "3.11.1"
  }
 },
 "nbformat": 4,
 "nbformat_minor": 2
}
