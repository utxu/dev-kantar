{
 "cells": [
  {
   "cell_type": "markdown",
   "metadata": {},
   "source": [
    " Hemos de realizar la instalación del motor Postgre. Una vez instalado, hemos de incluirlo en el PATH de windows para poder trabajar desde la powerShell. Lo que incluimos en el PATH es la carpeta bin del directorio de Postgre recién descargado. Crearemos un superusuario y una base de datos llamada transcripciones_db"
   ]
  }
 ],
 "metadata": {
  "language_info": {
   "name": "python"
  }
 },
 "nbformat": 4,
 "nbformat_minor": 2
}
