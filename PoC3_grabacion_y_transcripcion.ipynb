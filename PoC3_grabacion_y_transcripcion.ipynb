{
 "cells": [
  {
   "cell_type": "markdown",
   "metadata": {},
   "source": [
    "Hemos creado un par de carpetas: una para grabar los audios y otra para las transcirpciones. Las trans ripciones las he guardado en formato JSON, pues parecía a priori lo mejor forma de guardarlo. Si embargo, creo que la siguiente prueba de concepto ha de tener en cuenta: 1. Crear fingerprints, 2. Guardar la transcruipcion en una tabla, en una base de datos de tipo PostgreSql."
   ]
  },
  {
   "cell_type": "code",
   "execution_count": 3,
   "metadata": {},
   "outputs": [
    {
     "name": "stdout",
     "output_type": "stream",
     "text": [
      "Grabando fragmento: grabaciones\\audio_20241125_234837.wav\n",
      "Fragmento guardado: grabaciones\\audio_20241125_234837.wav\n",
      "Transcribiendo fragmento: grabaciones\\audio_20241125_234837.wav\n",
      "Transcripción guardada en: transcripciones\\transcripcion_20241125_234837.json\n",
      "Grabando fragmento: grabaciones\\audio_20241125_235000.wav\n",
      "Fragmento guardado: grabaciones\\audio_20241125_235000.wav\n",
      "Transcribiendo fragmento: grabaciones\\audio_20241125_235000.wav\n",
      "Transcripción guardada en: transcripciones\\transcripcion_20241125_235000.json\n",
      "Grabando fragmento: grabaciones\\audio_20241125_235119.wav\n",
      "Fragmento guardado: grabaciones\\audio_20241125_235119.wav\n",
      "Transcribiendo fragmento: grabaciones\\audio_20241125_235119.wav\n",
      "Transcripción guardada en: transcripciones\\transcripcion_20241125_235119.json\n",
      "Grabación y transcripción completa.\n"
     ]
    }
   ],
   "source": [
    "import whisper\n",
    "import subprocess\n",
    "import os\n",
    "from datetime import datetime\n",
    "import json\n",
    "\n",
    "def grabar_y_transcribir_continuamente(duracion_fragmento=60, duracion_total=300, carpeta_audio=\"grabaciones\", \n",
    "                                       carpeta_transcripciones = \"transcripciones\"):\n",
    "    \"\"\"\n",
    "    Graba audio en fragmentos y transcribe simultáneamente.\n",
    "    \"\"\"\n",
    "    # Crear carpeta de salida si no existe\n",
    "    # os.makedirs(carpeta_salida, exist_ok=True)\n",
    "    os.makedirs(carpeta_audio, exist_ok=True)\n",
    "    os.makedirs(carpeta_transcripciones, exist_ok=True)\n",
    "\n",
    "    modelo = whisper.load_model(\"base\")  # Carga el modelo de Whisper\n",
    "    tiempo_inicial = datetime.now()\n",
    "\n",
    "    tiempo_transcurrido = 0\n",
    "    while tiempo_transcurrido < duracion_total:\n",
    "        # Nombre del archivo basado en el timestamp\n",
    "        timestamp = datetime.now().strftime(\"%Y%m%d_%H%M%S\")\n",
    "        archivo_audio = os.path.join(carpeta_audio, f\"audio_{timestamp}.wav\")\n",
    "        archivo_transcripcion = os.path.join(carpeta_transcripciones, f\"transcripcion_{timestamp}.json\")\n",
    "\n",
    "        # Grabar el fragmento con FFmpeg\n",
    "        print(f\"Grabando fragmento: {archivo_audio}\")\n",
    "        ffmpeg_command = [\n",
    "            \"ffmpeg\", \"-y\", \"-f\", \"dshow\", \"-i\", \"audio=Stereo Mix (Realtek(R) Audio)\",\n",
    "            \"-t\", str(duracion_fragmento), archivo_audio\n",
    "        ]\n",
    "        subprocess.run(ffmpeg_command, stdout=subprocess.DEVNULL, stderr=subprocess.DEVNULL)\n",
    "        print(f\"Fragmento guardado: {archivo_audio}\")\n",
    "\n",
    "        # Transcribir el fragmento\n",
    "        print(f\"Transcribiendo fragmento: {archivo_audio}\")\n",
    "        resultado = modelo.transcribe(archivo_audio, language=\"es\", word_timestamps=True)\n",
    "        transcripcion = [\n",
    "            {\"timestamp\": segmento[\"start\"], \"text\": segmento[\"text\"]}\n",
    "            for segmento in resultado[\"segments\"]\n",
    "        ]\n",
    "\n",
    "        # Guardar la transcripción en JSON\n",
    "        datos_guardar = {\n",
    "            \"metadata\": {\n",
    "                \"archivo_audio\": archivo_audio,\n",
    "                \"timestamp_inicio\": timestamp,\n",
    "                \"duracion_fragmento\": duracion_fragmento\n",
    "            },\n",
    "            \"transcription\": transcripcion\n",
    "        }\n",
    "        with open(archivo_transcripcion, \"w\", encoding=\"utf-8\") as f:\n",
    "            json.dump(datos_guardar, f, indent=4, ensure_ascii=False)\n",
    "\n",
    "        print(f\"Transcripción guardada en: {archivo_transcripcion}\")\n",
    "\n",
    "        # Actualizar tiempo transcurrido\n",
    "        tiempo_transcurrido = (datetime.now() - tiempo_inicial).total_seconds()\n",
    "\n",
    "    print(\"Grabación y transcripción completa.\")\n",
    "\n",
    "\n"
   ]
  },
  {
   "cell_type": "markdown",
   "metadata": {},
   "source": []
  },
  {
   "cell_type": "code",
   "execution_count": null,
   "metadata": {},
   "outputs": [],
   "source": [
    "# Ejecutar\n",
    "grabar_y_transcribir_continuamente(duracion_fragmento=60, duracion_total=180)"
   ]
  }
 ],
 "metadata": {
  "kernelspec": {
   "display_name": "Python 3",
   "language": "python",
   "name": "python3"
  },
  "language_info": {
   "codemirror_mode": {
    "name": "ipython",
    "version": 3
   },
   "file_extension": ".py",
   "mimetype": "text/x-python",
   "name": "python",
   "nbconvert_exporter": "python",
   "pygments_lexer": "ipython3",
   "version": "3.11.1"
  }
 },
 "nbformat": 4,
 "nbformat_minor": 2
}
