{
 "cells": [
  {
   "cell_type": "markdown",
   "metadata": {},
   "source": [
    "Primeros pasos para trastear con el speech-to-text:\n",
    "1. instalar Whisper en Python\n",
    "2. descargar el ffmpeg para que whisper procese archivos de audio\n",
    "3. Agregar la ruta del archivo al PATH de Windows\n",
    "4. en esta web, tenemos un resumen: https://phoenixnap.com/kb/ffmpeg-windows\n",
    "5. Vamos a grabar un audio con Audio Capture de Chrome, lo guardamos, y lo introduciremos al modelo de wihsper \n",
    "(ver en script)\n",
    "5. una vez hecho esto, podemos tener una trasncirpción n interactivo (pensar cómo guardamos)."
   ]
  },
  {
   "cell_type": "code",
   "execution_count": 4,
   "metadata": {},
   "outputs": [
    {
     "name": "stdout",
     "output_type": "stream",
     "text": [
      "El archivo existe. Iniciando transcripción...\n"
     ]
    },
    {
     "name": "stderr",
     "output_type": "stream",
     "text": [
      "c:\\Users\\34676\\AppData\\Local\\Programs\\Python\\Python311\\Lib\\site-packages\\whisper\\__init__.py:150: FutureWarning: You are using `torch.load` with `weights_only=False` (the current default value), which uses the default pickle module implicitly. It is possible to construct malicious pickle data which will execute arbitrary code during unpickling (See https://github.com/pytorch/pytorch/blob/main/SECURITY.md#untrusted-models for more details). In a future release, the default value for `weights_only` will be flipped to `True`. This limits the functions that could be executed during unpickling. Arbitrary objects will no longer be allowed to be loaded via this mode unless they are explicitly allowlisted by the user via `torch.serialization.add_safe_globals`. We recommend you start setting `weights_only=True` for any use case where you don't have full control of the loaded file. Please open an issue on GitHub for any issues related to this experimental feature.\n",
      "  checkpoint = torch.load(fp, map_location=device)\n",
      "c:\\Users\\34676\\AppData\\Local\\Programs\\Python\\Python311\\Lib\\site-packages\\whisper\\transcribe.py:126: UserWarning: FP16 is not supported on CPU; using FP32 instead\n",
      "  warnings.warn(\"FP16 is not supported on CPU; using FP32 instead\")\n"
     ]
    },
    {
     "name": "stdout",
     "output_type": "stream",
     "text": [
      "Texto transcrito:\n",
      "  Hoy le damos la venvenida a nuevo integrante de la familia del norte. Este es el All-Country Barbecue Pits, modelo Pecos como puedes apreciar es un armador de estilo horizontal de los clásicos que se usan para el barbecue en el centro de tejas. Como puedes ver, este modelo es bastante grande aquí removiendo la barriguita. Podemos ver unas de las características como este oyo donde se va la grasa y este plato que es como un deflector de humo. Como podemos apreciar aquí el humo viaja desde la caja de fuego, sube por arriba de la parrilla sobre la comida y después sale por el escape de humo que está a nivel de parrilla que es una ubicación muy conveniente y como puedes apreciar aquí está bastante grande de seis pulgadas y este es el plato con el que puedes ajustar el escape de humo y como puedes ver aquí está la caja de fuego que también tiene una parrilla bien conveniente por si quieres hacer unas burgas en lo que esperas por tus abumados y podemos apreciar que la caja es bastante grande. Esto me parece una ventaja muy, muy grande porque como puedes apreciar cabe básicamente un leño entero de madera de muy buen tamaño aquí puedes ver la puertita que se usa para meter más leños y recogerlas en isa también por aquí podemos ver este plato que sirve como una entrada de aire para tener una mejor combustión. Esta humador en lo particular me pareció muy bueno porque está construido con material bastante grueso como puedes apreciar por aquí me costó 500 dólares que sé que no es nada barato pero considerando el costo de abumadores de marcas más establecidas y más conocidas en el mundo del barbecue no se me hace tan mal pero como todos los abumadores que son fabricados pues en bastantes cantidades como este van a tener varios defectos el primero que note es esta separación aquí en el compartimiento principal del abumador y como es aquí tenemos bastante grasa la que tenemos que quemar y como puedes apreciar aquí las soldaduras no son de la mejor calidad y si te fijas también hay como una separación entre la tapa y la cámara del abumado lo cual pienso que va a dejar escapar humo al momento de la acusión como ves aquí también por la parte superior de la tapa se ve la misma separación. Pues aquí puedes hacer mis poz para que cocine. ¿Perdad? puede ser unas hamburguesas ahí. Ah si siento, no tiene cargas. Y bueno aquí usando esta regilla la voy a colocar en el fondo de la cabina principal del abumador y voy a poner una bolsa de carbón ya viejo que tenía por ahí y eso lo voy a usar para empezar a quemar todas las impurezas que estaban en la cabina principal del abumador como te enseñó ahorita toda la grasa y el aceite que viene de la fábrica y esto lo voy a hacer igualmente en la caja de fuego. Quienamos, empezamos a tirar el carbón ya que está bien prendido y vamos a asegurarnos de echar otro leño para que queme bastante caliente y se quemen todas las impurezas como estábamos diciendo ahorita. Aquí ponemos una chimena de carbón ya bien prendido en la caja de fuego igual le vamos a echar un leño para que queme bastante y lo más importante para que queme bien, bien caliente. Y al cerrar las tapas inmediatamente me estoy dando cuenta que el lumos está escapando por todas esas aberturas que te platicé anteriormente. Esto es un problema ya que vamos a perder calor y bastante humo al momento de estar haciendo nuestros amados así que voy a tener que sellar todas estas aberturas que están en la tapa y también por la parte superior del amador como puedes observar aquí. Aquí nada más voy a meter otro leño en la caja de fuego para que siga quemando bastante caliente, más seguro que lo que tengo aquí en la cabina principal siga quemando y esto lo vamos a dejar alrededor de una hora para que todas esas partículas y aceites se queme. La hora en punto ha pasado y ahora vamos a ver cómo está nuestro amador como puede ver aquí sigue quemando el leño en la cabina principal del amador pero ahora lo que voy a hacer es acarlo y lo voy a poner en la caja de fuego. Aquí nada más voy a empezar a abrir nuestras roquillas y voy a empezar a comodar el carbón un poquito para tener una camilla de carbón ya bien prendido para que el leño no batalle y se encienda un poco más rápido. Aquí como mucho cuidado pasamos el leño a la caja de fuego, te damos un momentito para que se entiece a calentar más y vamos a pasar todos estos carguones que siguen prendidos igual manera lo vamos a pasar a la caja de fuego y aquí con el soplador vamos a ayudar un poco a nuestro leño para que prenda bien caliente y sea un poco más rápido todo este proceso ya que tenga más lo bonito que se ve ya viene encendido todo y nada más vamos asegurando de que esté bien acomodado porque vamos a pasar al siguiente paso de este proceso. Aquí vamos a sacar todo el aceite que nos sobró del\n"
     ]
    }
   ],
   "source": [
    "import os\n",
    "import whisper\n",
    "\n",
    "audio_path = \"C:/Users/34676/Desktop/dev_projects/dev_kantar/video_largo1.mp3\"  # Cambia esto por la ruta correcta de tu archivo\n",
    "\n",
    "if os.path.exists(audio_path):\n",
    "    print(\"El archivo existe. Iniciando transcripción...\")\n",
    "    modelo = whisper.load_model(\"base\")\n",
    "    resultado = modelo.transcribe(audio_path, language=\"es\")\n",
    "    texto_transcrito_largo = resultado[\"text\"]\n",
    "    print(\"Texto transcrito:\\n\", texto_transcrito_largo)\n",
    "else:\n",
    "    print(\"Archivo no encontrado. Verifica que la ruta y el nombre del archivo sean correctos.\")"
   ]
  },
  {
   "cell_type": "code",
   "execution_count": 5,
   "metadata": {},
   "outputs": [
    {
     "name": "stdout",
     "output_type": "stream",
     "text": [
      "El archivo existe. Iniciando transcripción...\n",
      "Texto transcrito:\n",
      "  Como una entrada de aire para tener una mejor combustión. Esta humador en lo particular me pareció muy bueno porque está construido con material bastante grueso como puedes apreciar por aquí. Me costó 500 dólares que sé que no es nada barato, pero considerando el costo de humadores de marcas más establecidas.\n"
     ]
    }
   ],
   "source": [
    "\n",
    "audio_path2 = \"C:/Users/34676/Desktop/dev_projects/dev_kantar/video_corto1.mp3\"\n",
    "if os.path.exists(audio_path2):\n",
    "    print(\"El archivo existe. Iniciando transcripción...\")\n",
    "    modelo = whisper.load_model(\"base\")\n",
    "    resultado = modelo.transcribe(audio_path2, language=\"es\")\n",
    "    texto_transcrito_corto = resultado[\"text\"]\n",
    "    print(\"Texto transcrito:\\n\", texto_transcrito_corto)\n",
    "else:\n",
    "    print(\"Archivo no encontrado. Verifica que la ruta y el nombre del archivo sean correctos.\")\n",
    "\n"
   ]
  },
  {
   "cell_type": "markdown",
   "metadata": {},
   "source": [
    "Acabamos de trasncribir el video largo, simulación de una emisión, y el video corto, simulación de un anuncio. Ahora vamos a generar los fingerprints para cada transcripción y las vamos a comparar:"
   ]
  },
  {
   "cell_type": "code",
   "execution_count": 6,
   "metadata": {},
   "outputs": [
    {
     "name": "stdout",
     "output_type": "stream",
     "text": [
      "{'82090692b24ba24937cbb27dc8074109', 'a1233054573e91a5b39cf8d7db183894', '432ba0f347cf6ad97265eb2e8cd3fccd', '4dbba542b38f52dedf151d0ae9b90d56', 'd468155c70373d13f3f49f81dcccb854', '093013e3de003785582279bfe8105c1d', '048a5452fb05911d4e2729637a9a57c0', '3aa17bdd2b3435ac243e76d70098259e', 'b23e22e15034e5e30363707134e81a4a', '1967e793560f0db775709d9f60297e66', 'dc6d390411e8917656c665582a4f1bcd', '43107349b7c6e4261f4343cd06909ca6', 'bdaab2042bcf9e29e95665dff46d8e78', '301726424f387f3178ef1dcd656adb44', '395be8d78424aeed7e1370d29e7a1101', '71550c2367eb3185010fbfe1d008d6de', 'f526ca4b819b36f27a58101e4af4d71f', '579d3d6cf5c6859ea9dc9518299785d2', '3966b934e4fdd69f3a8772a0265927e2', '9c60b44aa680dfa5f43190c2db1c7cd1', '2f8b8700bb11ac21648c8cc4b54eeaf8', '1096f964834c0e796838e2539ea5ea50', '8cda7e6ef18da1b59bcc96a5bb8e1467', 'a1600050ce438525be20e1bd0836282b', '68ce1e3709fdc6675d2a4b17dc3e0ac8', 'e5043dbdcb2edad4b0cae5825804cc3b', 'b8489970c40685af99a1cc2f881d3db9', '9a01616d889d2604742d90184af695a6', '83a30c4896f244b895bc71bfff5d7867', 'c256423cee621130b21a79dc1d24445f', '6459344ed4ab29f8aadfeb12b8e5493a', 'd7d85675062b82f4db86902db2cb3fe0', '5a0de59ee19c98738623c575a0db107d', '8796c613128bec5b94df6e78f3053778', 'd8b66a7e9a22c7d908fecd8f8de15079', 'e9b2d47ae06422658df7c5f2fd655ac9', '6743abc047909c41a42af5b5f8145d66', '7bb84203efeeec7554b9ba82827fbb3d', 'e66d1f266f646300697706816c252630', '183f9d7ab3846bf9816502a533484585', 'b4f8a88685322b93dae7a7cd2495d1e2', '14aa625b503cae2b09d02f919796bf65', '7375a4879056bdfd2ed2472b079060b5', '087ed1cf1d00343bee75a82c6dc7cffe', 'c3ec8a780562b3e1adfdc36d2af33212', '79dba599cca04caa21af81fc20b5e579', '80c14728b50b21b4fd8597ffb2518ef0', 'd8842c9f31619d8374466622cba9edc3', '674c9eda33fd4b879b20f33d883320d2', '59d73a60299bbc5db7a203b8d85add12'}\n",
      "{'e294fa16b8034b7fd9d8e395716ca379', '0bafb0b18e72a386c3f863b3b6b615a0', '75f507c61e8e4bd3341871d607ddcc9c', 'fffeafc065d3064ef787548c7c97511e', 'c4bfd237564da9ec0c1e462ea5ef6397', '3b41434684687b28f30e299a360c5a0c', '75da14bfc48f83323e25e30d1cd9ddd4', 'a6d31668017bd45df46a046dba05767d', 'b6faac8f0732eda42b064dd4c3ad4d39', 'a6e105fad72e23811706c798bf80ec3d', 'a9034cd2ebf1cd5465dad08e58cdb682', '424b90fa3d42df88e723739c88055214', 'f7c20bfdb6a66faaced4bf1007a1db0f', 'e8a62a64f8b8ea47feef4a1d5afc4d84', '56fe097b896944a9b2ff2b94186d1ba2', '07babda25d53b7bc462d8601566b8177', '9515a675dced2e2b9a02aff821c622af', 'bdcfc66b059ca84b700eaeb5c0293f42', '324df4312fbad55e48e084ff1ab1e4dc', '700511be2d01cc13508c8fb96f4dead1', '5d65bd462fcf33bd472b93059056e3fd', '7229a5ef0e3029a8dc6812d22dbbc71b', '1ec912020e170de696fad94620632bba', '4d5628cbf438a5a4ab67e7bd2449b726', 'e45d7ef8b6f274ea25ce4c7166986c01', '380a32913d28a4075babdff0213dc6f0', '55f2798cf1d3d40d7f16896408802f1b', 'e42d0a2e79bf76d57cfb44b741bd2ac0', 'a20dd10f4587c0645c7059b9b0464137', 'f4dec65156800c3723fb41d6761dd86d', '152959fc9dd3483dcc4590b072d47adb', '36f5cfa2742dfac851be9914e1be5851', '0c96fe0b03988330abc047fe928e810d', 'c66f1143ecb1fdd5c7ee0e3db6e7a35d', '51009b6530877efbf5789600511ced5a', 'e079a699826471eaa6f697afce16c4e7', '8bfb34b5d43e8f183bcddc26a6551548', '677dc25e28cf65d9035a83ba3f3d5acc', '57b0a32db8c6d68d51f32d7cb348b980', '6710caa16603ea30bf8de42eddbd6b28', '4cafe148dee72f6ca4fbb8f40d6d0673', '2eb9d420c64d34f9010e419a5c8685b7', '9dbd77ad25fffbe20ee29cc709f9ed1e', '183f9d7ab3846bf9816502a533484585', '68181bf213719187353808a8ced209ed', '621ca21ce0387c78074a3879f06a2b44', '5e382cdb77b2f9f60bfab3afb187e6e0', '89813fe2e9a1a1e7fbc9bc6a0f1ed245', '74ad9714d2b0d2f0feda5d41f7f419e9', 'f9037dfbc7469da195f3cbd7a0071c49', 'ea81acc5ae6b434c4865e197c8201f4d', 'b6532a6c1b0ecb701a201946259d6a45', 'fdc9d2a3c61f32692cb187d0e4a151e3', '566deb1c8d053f3464bd1d480ec74737', '3966b934e4fdd69f3a8772a0265927e2', '3ae5d9cddd59e4a466287c943b26475b', 'cbac9cd30bbadf514469ecfe97e13308', '2c85206136510a59fade671d3a0d3bb9', 'a34019ebae325b7d65402281871cb360', 'cdff37b361b8e93fab6e6599767564e4', 'aea48b777e859019224298d8f8a6f961', '435c0dfcf6dd5ebd399ca30560a74990', '298538b75537e9139fabd7333b379aa3', '25359d6cf721f031f51788a2ffec1998', 'cf1379a8ce2ea8046f2eab730492cf40', 'd2aa11e353d8bf8706c581f9a8041d77', '91a446b4f076cc3a55d3fbba7e8be0e9', 'c0d9edd947cf81c19e2b7b80d0ee6dac', '39918e5e55833ecce16350cde43d8529', 'c29de0a372d53b6e2ef00ac8f5021409', '64a149bc1fefc160824c774d7628d826', 'bc9a4b2f71bbe2959b9d10d72fd91e44', '2f741b3df3ee453b73a7565edfdadf75', 'f299396ff1903c3178588b8bc1414859', 'a800d49e939124e933e34b4b79dfd3a9', '4f4a055c05c3efa1b3e891fbbb63ab66', 'ae7d5c9253326a1d77eea3363fff4de7', '7f3ec57981fae8d906dbf96ea6080df6', 'c50885f0c4354a7f0dbf33798db3e894', '376cf148dc768b5e7c4bbe5e82832b6c', '6aaf17e3e5f5fabff3dc754b39aa7548', '68ce1e3709fdc6675d2a4b17dc3e0ac8', '14b7993b4cef9199fd64061c0f6e1cb9', '7294d84d5e7b158b93b0a94cdbb75ceb', 'afb92c64dadcb50a826945b3967d05f4', '52c261d8b82e4c08f8d08433bf24727d', '47a4e67edc9d9a0f3bb41c044e3cabdb', 'f06ad7fac4e109b2ad118be547c1864c', '0c773a9dbe9647dd5c75937afec90598', 'a03364775ce294f173a766c7c0d472c0', 'c023b0530226cb7c290cf297a51c0f45', 'f9c2c99e416d922b7964c67dc0c0e7fe', 'f2b23f5c319e1e58b35f426663d0d890', 'a934a5391f81fca35e49630e29aab82d', '65f75f10898ed8a721fd98de55c71228', 'fe5e3a93a729e5195ef85cb18fe71d5b', 'dedc10c405a12085f8c63093eb2dd2d8', '1b0dc99c1920e2d20d540a4c3e2d83c0', '91d2f09b732e756bf2b629059fb13718', 'd239ddbb0c42102b14645930bc204d74', 'cc6dd0cc58a2552653e1171e0b16bd2d', '71e55187218cd282abfd396d64a7ccc2', '4104b21ad49df3cd7e687f61828e61b7', '6903c43255b92810bf4bbce98ab40226', 'afb27f5915fa57c1dd9719720a89eaab', '80c14728b50b21b4fd8597ffb2518ef0', 'd1239699d5ef98af4e5eeeef36c4e63a', 'd994a1b73d4f124fbab6c72dc0d74991', '175718a6e861661326de67d4fea42f75', '34115e7f7322cae930b75d7a7370b4fe', '9e07469859ae6e28b29ba01ba4707f34', '3030e644f05a418a8326d8a00274c902', '7e51a0f96a60a08788b6d137e99bdb57', '97dcb9178e6f85a6992f340f43d63c19', '4d907866cc5927221d92b809ef677b47', '9617bb62925d3431ad4771fb73cf1e89', '62915d9dd14949e7ca405f589d07d2c1', '3aa17bdd2b3435ac243e76d70098259e', 'a4e57e887eeb2b693fba059f992df8dc', '8301ce5d444700e5f47aef2d39217c88', '223efe2ac0c723728301d81623130106', 'bbcad594d336e17c0bb60d214cf81af9', 'bdaab2042bcf9e29e95665dff46d8e78', '1a77fc52fe0e41e525bdb6320e79acf0', '54bcf2519c2990265026e993bfb18396', 'b2df18d6abe280365daa30adf81b475b', 'e982ff69223425dabb10e5245037db4a', '2a3e46b05b4044ed0bd21ea0090a44a8', '8bae673948511e595a712b447d28c434', '34be1ffa37fbe1bfec660967465ecb30', '8444e0a67839cf3f50fc35eb0bcd1b49', 'ded32cf8bf4ca5adaf480f6c47e4a02c', 'eec58dc290ef92098ac8a671de4df5db', '1f28372d3c2f1a9c71ffc5b7bf98dcee', 'eb587836782a57f417c0f8bc3c308964', '0feaba01321f9bc58b00426350e7324d', 'c256423cee621130b21a79dc1d24445f', '9b25d48d983b5c4b359061aac615d8c1', '7e5cbb77113993fba25836b23a33e670', '9c7fda76f0c5ec1be0080438219111d3', '2dac598809527065b51876028065bd3a', '193354d4822036f25edf8104dbf35c8d', '6c28410eec1f78dfba72f68fe19c4b75', '160080795784baff015a9665c96befd8', '2a495cb3854ac1e619ea9f3211368e7c', '980b6c56ee3cd940a7ff0cb6b6d5c3b2', '7eeaeeacac39d1c0414cffbc8f77e561', '802572633e4707189cd56eecb70e6fae', '82388db5db0d59642556736014d1768a', 'c72b3fba8a394239adf2d9b010d00ff4', 'f9d608fa6031de0d3f0771439e3ead23', '6012ef7f86c370f6986205c3f6020130', 'd1a599d948808390b4385a5cac404898', '9973ee12af22e589830386b9ddcf351a', 'bf99aaec80721045db2f2e6d53e85225', 'b555ec28da40f90f029855280ada3c63', '607dc84f5af0739e0d995c462219bf93', 'fe40bf928167ace2758808b1f13e3538', 'b49c91ffd38bb9430df97af09656659b', '21db45dd77a3112cc0f66072b6024729', 'b7b6748007b196aabc8ccd06945432f3', 'b373a16458c937c27462ee330a08fb9d', 'd468155c70373d13f3f49f81dcccb854', '17a245f9f963d4b05491616971929f5f', 'd4ae34eef882d3aef098ea35c84c7de7', 'b8ae6f66ef23756cdd038ada0d6fec31', 'bdc720b32de9a26e8f0ef9c70612d137', 'e7ca343df6ceb26b3e49622e313ce678', '0978c94b96d48baad607b488affb3543', '0664d2d3841883e390a4704604566830', 'ff949b68064c65b904bf4cb3add6a8c8', 'e6b832e13d6cc3685ecd9152f2879d65', '43107349b7c6e4261f4343cd06909ca6', 'c0c99f97a4faf657b4153e3b7e8cee2e', 'a9ae47870e3486fd327b29b9ae8225b7', '301726424f387f3178ef1dcd656adb44', '3efbb89c2f6e3344b1ffbd24a99cc857', '4e2bb2538d1741584105050aa5855b7b', '8ed5c01c2b9e05a0d0a5db45fc1134f1', 'e7de5fdf4ead99b486d56706d22b7e4d', '8eb8035e6a8db619c5ab7418ff8158a3', 'a5ea193f6f8f1dff0ef8672add523706', '31019b4c32dd9ef5937da594bed1db1e', '1c4f1394b70123c4f93888966b5d9cab', '1288f45347f9c9836bda0f17704713f7', '301a2997cde9c5292b7050169ed9cbb6', '265be85e818d9a6b7f1f530da8c02fe7', 'f70faabc971f205409c1cc6858e8c4b4', '129031d7e4f9ae70d89d846b61955b72', '29b2f0bd05505e00d01cfab98dba4743', '1547c45f27aa13d7fd53247b63178cdf', '158cad01c1d454beccead11d4f35e25b', 'e24e17b0dfbe06e9ec9a30138bb9ccfb', '63273d8aca98b471eb296a62319a2357', '8f2ce9e9a3f4294a3b502fa1132c2481', 'fa3f9c95554e7657e003c355b19cd01c', '03e243d8a00d99f44ad3bd4aeb8d2c03', 'c122d1888372c125bf0ed05b5b5e1afd', 'fe792403449ac0805ba324b57cd47dd8', '693ba93f395744ca96e40846c34280a3', '4e558e887829090f1bc27b9fd2cff7da', '9094eec6769fc8359eb2a89d0fe51acc', 'd4dfec6be7d001fa4a1a7dddb5daa1d2', '90318f04f209ada75e059b48b8caaba6', '3001ca39cdac98c52bb568b78ca6b361', '14aa625b503cae2b09d02f919796bf65', '334c037215364d0bcf3f5d690ee80e1a', '8f0a63924600d4ea0332bbeac38634ad', '16b4390ac63d2d23567a73502257475e', '7c9d8350e1d4420b783b40b5e6ebd2e7', 'c257d725d7f8f540ce2114b5e62373c0', 'fa9d1b655a220a1d7420b7cf166ab340', '62f00f8b56ed7921f97217f2c7e1923f', '9c463159e84068cee31cec4195995b64', '32e2d9549c295bc0cc87992156432234', '3f41188908fb9fe50e9f0f4206192a10', 'cb6860db97c7c2757f69599162d7b87c', '630b4ed28e7c0bf0d1ce827d644f7e46', 'df103176a896ab8e0805302e89a2f666', '5bd25ec859774d42c6d7fd3fc85b5dc2', 'de43f0ff1ac2141e3772e7e216a83c78', 'ade51463d6a74408288613f381ec6879', '7e0d5005ba74c4ceaab3ffc512d61aad', '6aa02f8e461e9e78bad918f302527328', 'a20f653d29d6abd730c0476f2a347208', '9c3717b39449468978edbe0263d8c722', '8c3300ecda1a21506cc8765f7caa1edd', '98781f95f28987365638a1426f193bc6', 'ad5ed7ca22c7077b484c55eaf1a8fd42', 'e40df9709e5db33caa476c54b676705b', 'a0288bccfecd598a318c16da23947c4a', '82ec5c5c54b2a1a8cfad0cc611854cb4', '14aa06760deaa7fea74eadd61e5fd6e3', 'a64651b988bac5aff0af9ffc3bba8ded', 'f2a97da8e31a8d243f492c30dd448b49', '14ba6455d9022e4b503c567b9ab22a46', '65dd5e701d50299b45c5d09cc0b5ac94', 'f1dcb8a3d424905ce5176a0bb1d335ff', 'c6244a885011da682a5a6fd202537462', 'a846dbe3af9b17dd4bbada8eabe9dae7', 'd20353dd962e2011bda863219e3662f5', 'b8489970c40685af99a1cc2f881d3db9', 'f3b86eb4fc631bdcc9a256368b602944', '0c64333b901d7ee6b321f48a09cff9f6', 'baa3c5048a503975f32da94957e8ff69', '9635eff85031197dc1b9ee2d4ae70e57', '7f2be2ae44c4de1dd9fb069ffead320d', 'ffac7deb7b8b79e717c4c517273610e7', 'de7c20822fccf62a38762e69303b7729', '54be545cf7e068620d96caa2ebf4e09f', 'e51964b039724bbb2851dc2d78742e0f', 'd6ecd64f339cd9fa56a5e9edd3ff9dfe', '5a0de59ee19c98738623c575a0db107d', '7c2162b42ec2c306ce49f792b7385103', '61d7540efeb81bdfd7aefd9bd6b147c9', '303b985c9f3865d5174e510f270cec22', '33f1d69e539f9424f11788fc9b181a0e', 'bf38ba795626c561ab3b44492ddca82e', 'c51f159baf48cb03e979808a3b197605', 'cf7e8882815c509e8a283f0e33903a98', 'b874c9f0f73d446c762434a3233e5ed7', '1617e35296a6b2dc09dfef426a227942', 'c02d124ad81593e749f87d56b26dbe21', '7b7fd1a2f3b261193a679c67f2738380', '2fd57fa6afe2e5b057e36ca7f3df0813', '83417e2c1299bf65e506324bd8cc0beb', '57a70ddb45abe4c38a19c8f9e09118a2', '319ae63c2df4aec412efce272d7c18e0', '87a5470634190c59dfedbfc5715dd3dc', '3523ba5fe89e695eb5a5c1e0052e7574', 'ad2f6e8d031cf2c0d3406497d27542c4', 'db6e26434a14c7f00b99f76ffa00dca8', '4e02bbf028ae01bcca705202c51fcc0a', '860cca7945bece5f2aca60059696752a', 'ccb8e16599e40a3df39fab34066a7174', 'fd080e2c03122f7ee2f43b92b3327058', 'f23797b70ba97cdb293ca664c23f763f', '66d420b660273be5ee1245145416096a', '1f97bbab163a4aafe69d0e97fcf794e3', '39735295abcbb85f94eaa4ea0c9571ff', '1e7de6ce193d31b95d82521f179b5d6f', '7a9a250667bab7224e3157d1dc20cfc0', '912caf2de88f9cee4dc9edeebed4bf06', '198cc2a17e069f0581a26d82ce538c62', '3165e45ee03130a7da9a80a4db79ef85', 'e42e540ca7538ddab08baa289fd0ba38', 'f291d117a0fea8a0f62be20fef2df232', '722d0a1f1b09bd32baaa2010c41ef3eb', '0887b93d5b926ae038238851b423feff', 'a0ef2f0d57cd08d1d5bf91d199d2d93a', 'd5ecb3e202c6570b9f3e70acf8f495ca', '2aa4aa496e6cfadd81c335eea320302c', 'd33350f3868ee445fc45fc98733d9ccb', 'cc950ca20941e81d87621100315bad61', '8cda7e6ef18da1b59bcc96a5bb8e1467', '60b79eb21a3339e21b069c801a273a96', '443f6d61e7997565eed948c0a703c5a0', 'b91969d0d89516c86813290a29b682f4', 'a4660e49b92a3d9d641b9ca2d733b6c0', '932e023bb9e0d45f438b889caad8fdd4', '8fef9e1ba9a2485d06ef681ed45ead6f', '6459344ed4ab29f8aadfeb12b8e5493a', 'd7d85675062b82f4db86902db2cb3fe0', 'd42c072ffe8a6ea2f22475731ee5e5ae', 'cb147df9addfe9c78bd75fb256b58a1d', '228ea5338378e3472be5e9c26696adfa', '209ae21462ee966c9d689f9db187cbfd', '6743abc047909c41a42af5b5f8145d66', '7e9d63f4703f13e249a065f620705a16', '9982bb77dac1f4127f757f6f40a2b690', '480100c2f365eef8fd400db11de8d927', 'ee711c276dec23ccbf9d95d785675910', '69b1b8fbe18ab69d3c1dc625996240e1', '674c9eda33fd4b879b20f33d883320d2', '4f724a92ae8de72353b285fad007899f', '432ba0f347cf6ad97265eb2e8cd3fccd', 'abdf8c37f41fba041b6b5c06e56521c3', '88766c21a562c4cde4c35895582c75ca', '3610992204a6484527bc6a6f083ec1c7', '426c3267c80698f92f72cf4a6f9124fc', '8594212cf34a6a8fb772b22dc3fcadda', 'e344a42c0b3f3a799e823545746cb411', '8e2c0217ec52b5057b8e90fd845b0059', '0325ddee0d2d8192f4166791a76096f2', '8cfc9bb990f2e91aadf8c3b3eee6c7e2', '93e4c3fd9f52262f02a585d893c9be1a', '483f8da56189f826227ca7207a5e1278', '03f69d56a74b3b40843dcb3c4622c772', 'ef5266ba5d1dcfe7bbd7a48c01752727', 'ee54b98e0125e920b67348a417a3576d', '316228468dc367230cbe8898a4cf80fa', '29254473a371eb5c8a8b9102d1bd4a64', 'dff765268d7c9c44bbd52fad6f435e6c', 'ed640f75b7366b6ae176719b78a6ec97', 'ee59dceb326664337479b4641054242b', '6dd5599ed5ee86222d62cd76b2f80f0f', '219c15bdf4bc06cee670a9902950b3b3', '2d897eb9ee1e8ef1b3aac63158f581f2', 'afb74b162902573a0513d9442c9e3cee', '1096f964834c0e796838e2539ea5ea50', '149b32ecd0b750bb3ca27773f7c3fc53', 'a734e503de770f568ad42697cd7c3f68', 'bcd48c75ed798f3ee52f06da596c2fcf', '8848f2bc12b58f85f147269cc29dec09', '142375370d4f697ab5b7fa33ad0c98cc', '9783d6e8cc0f16a58f55115d9d5603c7', 'f08661699c97ff23b3342755ca8ce613', '2c6840e3ddf53e49d1979d625df85c2f', '2235fc03194023dca9336fdba817b187', 'cf11234005393ffaf80057c05fb9a263', 'e0dd6aa8d6087b6889984d399dc8f369', '592d0487da6ea364c64e1497846fd4f2', 'e6ea93b6f3b81b7364f33e6a2c85533e', 'e9b2d47ae06422658df7c5f2fd655ac9', 'c38184319e7e07c2f1761e9e009002a6', '1290c02dbfe58e3e9cc1747433f6df60', '708ff02b69290b6031902f3f7140b809', 'b4f8a88685322b93dae7a7cd2495d1e2', 'fa6cea49134a57e7924256685345d495', '7ef4c4848ee03eaebca2e7665077b5ad', 'a93f78375ec51de3d5efe4b6b8194e86', '26f0d4736814c9d1f6935f119de21b4e', '92d2d08727491b2a11b17d7c9015de33', '59d73a60299bbc5db7a203b8d85add12', 'f2ef49569d615da6d1b40d82c9252470', 'f45840bdd93c0de508b9469faad66e93', '0cb667cf2f678e2b61b426d0653e076b', 'e613881aa6ad7bf70a40e9a685cb87d7', '94b70654dca8572419a95e26904b7042', '358f05d51d3e906a0b0425e0b1e8efb1', '1e43b44b872c5c0163a8324e1b446c3a', 'a98914ecd7dfc51535359333ab15226f', '580abc9c40219f823e51742c184094c7', 'f17a7317a69695fe016f57d43ad8ae45', 'dc92ba384c6246a09024b09c2e8392b1', '403347d5cdb2e6320c26df3ac1292f09', 'bcea5e9d81bc653a59d7ef706af6eb23', 'fcccfcfd2c4336f541152258627de386', '44cdf85d7d6b1e2e8fbcb7feb1f8b8f5', '0660c200f736afc452cb8f9ae497c4e3', '919f6d250318e7aeed2c855735d402c2', 'd67d28b8493a48ee26501c08b18c0c97', '469db36cfb35f784e02c4da86fbf127f', 'fe3a2024631ad3e6b1c491d3b7030365', '9e7b7cbfd32e2c4c7e52d28a8f88cf54', '13f6987d6c8298b47e4afac4e99ae8a0', '75563146ca0626aa3a63297d02cd9a21', 'f2471893071d94a32ad4f4fe4a1b303a', '4f4ae75c028efa33625215be3aad570d', '0c7b1bb91376ced7d714363e33732fc7', 'cf731f6abbfc9d8d054f50515142c76d', 'c71e2accc35b6349ef9a6e21e3d0839a', '9c60b44aa680dfa5f43190c2db1c7cd1', 'da55075a48d2979d419c237efdd5413c', '274571f6111dafb7451b5123a32e6614', '32789edb2e57f9b54324542313ab50dc', 'cd36593d63b29ba12bf79b466082b693', 'ce3b095901ce5e303f96ff4f2b5b08df', 'c8061d71aaab4aea1b11b908abb76dd0', '3ab116a2056e31eb96f38ba7e563888d', '728796ad72e6faeb208e0d4e255eaed3', '93d24703c97c5d9265acdc285671d729', '6e071dac09c78c24843b989d46bb9e12', 'd9a0f780a2c14462bebc0d7406b9baf2', '41b0b20be1dd64ebaecfaa055e1aefdd', '776c9958626ca580ff5652ca754222ea', '0eb91584cd217ad00ad25bc973dba628', '24bfb269d9ee48c5773ed05204474fa3', 'fa224432fc0585753da20a2227a04587', '36c7be3bee13f8822087b962ed2b4a54', '0a3e465729f4fd993e871e0454388c59', '49addb1db9e28b9037b05acef83e8553', '6bc2e4ea0124d36f289d5b29e31cc016', 'c3fa39dd730bbdf9c9e7ef2a277f686b', '2e1cf80792a914ea39d3bc0bed6d0753', '3ebf4ac84a35e2d67c3ec4892726a91e', '4b3568d8e14570d64aa07b7b99085a32', '994a9e7a5066bee5d2f3254f51ff47ff', '769c0eb29aa90fe592a6f637682b2a5e', '0ea966fd27aa8a8ab366e2bd63be821e', '1ec3974a98e1530e5540b863c6fe79a8', '4543d2e9f03fe6a0f5989ba5d37097e3', '6f024abee83347648ae46da982c8ad45', 'a35e14108471183e466eab3febbc4df6', '3268385dbbd60d9e5db39c8cb5974f20', '97d1ab218ee59d4a81e09ba5037a5615', '050704a78901f766b451921a09eedb78', '77a99b5e4fa4d259434aa28f6800d142', 'e61228335e962af742531f2592479515', '1ef503ed5f75334769f4dfb8be05c660', 'f4c7be246f6c63003a2a26ca41f21cfb', 'bc40ce29263ed48769305f4cf4aeb66b', 'c853e65353701cc6a46ddd454b86c44c', '84c6d4a0390f03850ffee72804ec095e', '756391211bf9eda36e85c2432c214e0c', 'c6163e9a5e63de1a20f1c99b422324fb', 'd35bc7c848e2e3d0ccd5e493b0304b14', '70a7489bde7a84fd50cda09f1a79e50e', 'dc6d390411e8917656c665582a4f1bcd', '6f1d5319d21b183af6f925922129fe93', '61efa7e89ee16cc256ddf842eedfe834', '7e7dee8acaee3eec6f8f4e6031061a81', 'd5dcb8b0936e9f6aea6db571635d6d63', '7f36945fa0070b13883021db6fd70185', '02f081579a80c6213d16dfac78cdf281', '317388718cc75662f7ee0e1cdf10c37a', '96a575ff46fbb50361f13776f2a38cbb', 'db4c113f825beab5b9eb74ee42564948', 'e534b9f5764f7fe799a93c668b6db1e9', 'c4abd45c0b800f9e35cb047761773a06', '994bae1bdfe0bc65a4c9c8a0dd98acc1', 'd783ab7b3f88bad943fd60a65227b655', 'e2fb46863f95775c10be2aa1c64c3ca2', '624547e1cdef582e49dfa47a0c92f737', '88078905958ee7dcaec882a5c1e4d5ad', 'a4fdaca1f82e07d6dfa637fa86b7a0c5', 'e541df0898476945d38b033494698c36', 'f435e93e5cf0188dbfee3a3453b3f170', '4313132936c0751619427994bfc94357', 'cac34386ec81136b5dea01c7f130346e', '72eacd398bce2c767083cd58748339d7', '8d203abf670d606dda59c571ee27d1a0', 'fc40f9aa1fd79ce3285c9050365bb3db', '412d95e43b8398f78a3f3b1131d777b2', '31e2207679480852066fa83d45067a35', 'd42dc06f9cc165433d16fb5a12b62a53', 'cb47de16476925ad94d0009fe79ebbac', 'da8ddd4d1b8c2860c3adaa5b2e5de648', '07501b38465b3f80084207eb87b14f16', 'bc55caf535e910b8124e07ef7bcedc71', '2c78b78925120acbbd682507a04774b2', '186ef9ab1bcb1822fa3e989eb34c5ee8', '5d86a23ffce8afaf64b2cbb6f3627d53', '39159b1005ffa8566797758d261c910c', 'b0f253671fef0da016cc3fd734605013', 'cc253c58aebccbe79ce789208db840c2', '0b033315888aa9fd945a2e737dc54db1', '3bea2f3fa2b883cc0864a79f9c94b6db', '2eed9f6b271485134749efbd94772be0', '3cbd4127f6c7b5ba8aba372c0d41561d', 'af8e687039be6f2fc61b9dbff077c471', 'd456884f944b000ed1890167244853a7', 'e9bf51d43dc37852045624c455edf47d', '19e126214ba39d543068506de90594fa', '8db7a82b98bc757dc2defae7295d06af', '8cb7e4c3f7b222ee3d07c261568a7f21', 'd2c6c0a4b85e5acbbf784e78db4ebd54', '64672978b3bf2933671948724bfabd8f', 'be8c7bf8545fff2ce8df0e431e1eb480', 'bf2298371069e0c65a3b8039c1fb9a37', '16467924829b095405a0238414283997', '39a729048799e0e62ac746adc9868bca', 'dce301cb5c151b81def9be8274acebda', '8b8e00c140638aa28a215cf3579d257a', 'fdb0eb6121209275241fb9bbbf3469ae', 'bbd5825f61af6ed0c8237b22d469d1ed', 'bb369a03f6b9a01ecea2aa280b1fa4b2', '5be72fe0b349891d3303761ca14c6a07', 'c7a4aea7b6ac4d52141ed7ddaeab548f', 'ce5bc4b07344ae16b25221c4cd62a1ec', 'd8b66a7e9a22c7d908fecd8f8de15079', 'ea279c9e7eb45abd83f0896597696a1f', 'd59f0df1c99b64d87a02089ea5ac7895', 'c4be36604c00b2f316b73fc784889e2f', 'f9eb72ec2d5442efcb5f4e9864e29fe0', '7cd9372c62c060fe6bed4d61ead48e78', 'b72649fc18d6ed1c88bb06dd3ba153f6', '82090692b24ba24937cbb27dc8074109', 'bea4b6621378213169e7914bf4c18b3e', 'db3b02e1f5c5a1512208e35a4e1e553d', '3f5e43075fd16535a597bb1f856289f5', '5ddb5d4d4918db7fa60ae60ffa192042', 'b1d69227b54ff124d5a630da2370bd07', '6e8a5de77937b0dbe29e0f69c185c572', '31edfa509772562bc86c77398d73f298', 'b3cb1ba8329237c222a9c2d18536a4ca', 'ea031c5c869ff475966098e005600fdd', 'c3a17aaa1d06b0b87adb05e571686b5b', '419327f9b46fd45e45c3698cdd9473ea', '49569f2f458f9c59fb579be78d959d83', 'a9302c68e0f1edadd3afc053bc9cec60', '966874de9503322992ef9b36305326d2', '11cbbd7f48a9d6ffcc9478eb8124ef0d', 'af34fe13ca2b917bb7ef92a3f8e789d4', '286e0323262e04cd4b8d7ee894ef6bd6', 'e72f37875c441433e29f000c659e3d86', 'ffa0b68b534ff9f45cf94bd4710bf799', 'bf12c90031fdcc9cea663b869d3e5c2b', '828e12fa76a1a04431814dc8fae7f3f7', '0bf1ca01d826281ab319b79d83d2b7a4', '3b9354989a681271c15628b1e6595984', 'a74aedab967de19fc08f785f01a902ff', '0dcdfb0073671d43d5609b6a10259063', 'b7af88a557d828b5b3869e78e2ad4d27', '3619ccaa9b6173f982420ef5762c226c', 'a1ef5757886b2d283fad62a120242f9d', '22b04a8d30f08ec265abd3b9a209ace2', '286cc7b312b1d454ccb3d7c61bf018fd', '1f7addbed5cb84ad051e2927bfb0d574', 'e6529d5f4a561a624d3b656b64bd7e85', '730fac9f26f4f0f7d577905034327d2c', 'c6f089bee1cf504e7a83c9a817b52909', 'e4235be8f3132318ed1b15d35659933d', '42afc2b1ac371c9add3b7980f00abb2a', 'a3da0bb764fdd6d3c5fd6eb0d5bbf018', 'b792c2d4f7b26b5f7f24085ed4f8f21b', '27eb087d11447e7e2afb0c0389ee91af', '4934b8cf18899be0c6390b1bd30dbc66', '2401df4a3aa4922e3e23b7fa8427c945', 'dd4fdf5d8f501e23590adc1d7ded96f0', '4043483287695e6c31fcbd7db2113e24', '79dba599cca04caa21af81fc20b5e579', '84ff53d616661097be7bf1092e893914', 'd7344b4251f9732e6268ed5bbb92ac21', 'b8bdc4e0ecd2cf97a2ec2d1d5ea61c30', 'fcf382edb0381059824d8b8b67d66a18', '68e0378c008fe6170e18a0f1fc062d12', '008635cb245307991cd699199c8b9a9d', 'b716d0543c1a83ab51a2359292cc6fc1', '59847e818f03178c4821d259b472b8a3', '07d68730fa77c2158ef23088cc4101ae', '4eaefb156ce164b8785275e6dba26bb4', 'e2c9189a324c995806dc089642b008f1', 'ddb9342c43d71b7488306b645e3e1c56', '472857e54707c52d75f12b29bf7d9342', 'a01d1ed264bad306937491b099303f8b', 'dd7ba71eacd5a27320bb9b7cc6a680c8', 'd584653c77f03cbf31114a46b78d8b5f', '93fd7d2b1d1428a0ba12753b5f03d106', '556451f3958aa9d2cb8516dd83355b4c', '75b855e1a6115a96f17ecf03a717b8aa', 'cc0d4a6175fb263e8e1ac674c73e3a63', 'c2c3ea30cdb8e454b65dba0c3e36121e', '5f353af0a1355df78876076891b0e057', '8fb32e6bd87321d7fccb66c79ba62af5', 'ac6858b82d3499c26749fe20d185dfb0', '6fb1371c6646d1c5e2430aec66102310', '9a8ef78a20c99ee2c4c0f521739c29f1', '64e4303a440b433208612612f36ee410', 'becd99a08625517e39bfc122f52ec7bd', 'c6b152de34787bee09a5cf8c3fc698d6', 'fe3a1ac4fbced4e9531eaf5e31e955ee', '15ffa2682052228f381c9ff549bf58ea', '06ffb9f3386c22864cb41a4d5650ef08', '02ef7a5b9bed9ae5b4ab3bdc0c68d176', '3087004803fd8bd35317427cfe340100', '52a4c39e97af3af7dfc829eb612ee5d0', 'eb703e3fce230286d3729c562ac85e43', 'c07dfe786cb4b70aaa7be85832be3118', '0151d591c65daf2884c8845643911369', '730a41030ec52f6072a29890e7610848', '4474fc7823c1bbe3afc1722d3506e6c1', '2569debffb42c7a1b6966f08312eccc3', '63e92a9e0421a4298d46016964102f68', '8002dc9d37077e6c0564841924c84d62', '2da57b5d7db2cc23aaff8a2e98e52c43', 'e04b549cce6efa4de144583c79411f19', '03a7bee5f678102c82dbf2f7a4663a57', '893d935aed17de8e731f467169531676', '170530dba69e61b5f254104a13546ed6', '9edc8ec8d2364c897cd1526afd6b7e99', 'e0afc6225672d6f4adaaa02ef5415c68', '1cac60abcdd16a482a294d1ef4f1393f', '07c8dc29719b708cc55f180674d09423', '4101036f405c8332ce21ccfcf99b1742', '174e9a498c433916ff6ae5c0289d0277', '92f60bf231532ebf2fbcfb6637569395', '6e075c08b6a9454b571a1a2f1ec6fc2a', 'cffc7be7d8a224ee2f09e4fde7b15577', '2fd6241bb0193e7143062023fe1a6bcf', '7f962e6b5f287398849c2470602c73cc', 'ac0fe5677f5e20015e1c23739b9f1d4b', '70f8f3598958dd97390ae191754a820c', '36c7b18c2ee32717f47ebf5e2b06bc16', '6e1b4579e9775842153e088222e55535', '3626c58d67559ecbcff8af722b9bee0a', '736f62e1d28289f5e0555c10e3d32f68', 'edf5377c48fc66db7554d0efc9c3ec32', 'a74d858429800514c81bf185f52c8c5c', '515b6b19a933d2a62d9a24d4fefbc1f2', 'b23e22e15034e5e30363707134e81a4a', 'd4636dda3a439e42a1172913dfc90ecc', '1e3ac26e1780fed153b64686858cd386', '230937a549e9816f1a8b0efeb0b0ebaa', '951638689604f29c246ad59b58af36ac', 'c75577824515fb56cb986366add0c833', '5c9b344929e815a490385fced5017793', '457267d1feb4dffb6593b06b2379415d', 'e1e681b9f09fb373f3548ab517150cf8', '9a7f16f0f0b492407f8b22c03fbc0361', '1e3d43cf754310b2769bf1efc7e492fb', '947e9be00bda4200bcd018265b0cb4bc', 'd81be8b87e9833781e1e243651d79266', '06bd08a99e2894e405b13cb91090d1d6', 'b73bbacd71ffe72d687d4e263a9c323f', '021f6c9eb10ce9fbcff267ca5d6fde6d', 'fb9f3847afb1de708b635d57d4985ffc', '13fa71676e52ceacd3f6cf29a700ef66', 'c9adf6a1ba9cb0997ade1c6d62ea2ef2', '50dd9e3c62c6a784d34d6ad4ff718bcf', '5e2b5fffc3c4a14cffd657500a3a544c', '9510bfedd099cf6d38c27336b582a8e2', '55246d6059c01b782146db5c3a255064', '48fa3999441dd7f98090fa6bb6d5ef13', 'faa9a0486f206af9c9f439be67abe584', '48b84b18bfeba59d9ad066e79ff05e72', 'c0ec087b03b7d6e7cc7209fe324efe02', '0c79605b151ccccec66514778c174568', '6ac11246af516ba9badd3493c98321a6', 'e6b7d76f7ee7e4e7c5bed047b2ce6422', 'b8bdd871d28c8cafedcf6137dbbb6e9f', '86756c1d03aca18a7a9689d76626bb80', '27aa9fd08c2df025a735ea3b7a00258a', '2dd5160903631d0b385330fccbea5d11', 'ce86f617c232b4c983789faee003062c', '048a5452fb05911d4e2729637a9a57c0', 'e75000bb881a44fea956db0f92619d96', '0527ed3482055dc0589586c4a398cc6a', 'db367ae09d67509e1b70d715da684e64', 'a42124d03bfd0fb1996132584b8bfcd7', '1afbdb2ed025218c5b26cf13dae2a10d', '7ac307a74dadc54ae1eea9a204af155e', 'bb5c0ebddcb663979e1ecd304ef1f692', '1967e793560f0db775709d9f60297e66', 'b9f03c573d7d0a295dec0bd5dd1c6274', '94bb8c433ecbf9ad0216bef2635a0036', '05a2d658e3c5f8ca4d9ab7ef8d39e899', '87b9215975c6e1550518140d6a3b9814', '395be8d78424aeed7e1370d29e7a1101', 'f526ca4b819b36f27a58101e4af4d71f', '85ce883cb52b58fb6562b7710a1b63c0', '7be587eade5c143541cfd66dabf2bad7', '7dbd6990e3ce0c347f579b8dea0ab5c3', '0daf43fd1a46c3e31ea296745fd43a5e', 'c6368000c6fdde3554caeaca198619f4', '9a4e4fff65b7eda3de20a7018f8e6f14', 'a1600050ce438525be20e1bd0836282b', '66ec6aa9db32c0348688e5564a272ae7', '62351c4c23e136d38ebf26947b86e33a', 'a8b579824e1ea18132f9151b6423e347', 'd138d46683cf2b51bdd10d3ba242ab69', '89433b9cee090941d9a36f0c2aeca717', 'bc0ded99e2e341813d917e8abf9f89b2', 'f8a48cc115472cccf331d9b385d23a80', 'f1e1c9b082a57c8dcdc7bb24a495ab59', 'a63ac0034f40eb017fb6caba5f261557', 'e982624478e4a8af03fadeb08af9194c', '6e640d469bda5adac72bb42e60451420', '14d2af8b7716bba0335f8b9d2291cabf', 'f5c381f003b0a826aafba8e6def8c8a4', '8796c613128bec5b94df6e78f3053778', '4aa79f6e8e1a1268dd0a7bae9085103f', '8248c682b61082b2aac6f173a2562227', '7b9f4c83040c45a8aa9393719165c4da', '397d15fb6f991442df3549020cd63288', '8ace818f4f4db9bb9333a95eff1e8a44', 'c7d601e7158af262535ffda372f989c0', 'a03445d6a62b96a991c1e48f140626ec', 'd66ab3052d9a0b4641865a3aee0c4738', 'b3f5776aed7ddcca77be88b478c660e6', '087ed1cf1d00343bee75a82c6dc7cffe', '0c24239ef5c70379e796e74b7c62dade', '8a7a9b862681e7dd8c2dbddf2a39fc4d', '2292742aa926107627a6363fed7719c6', '93e6a1980da342b473583f5b84290450', 'af9ef1504a348dbbaaef46f28b72c7d7', '3fc48e40907f3007e2d13f12fd51978e', '7af1dd242c19a0e08c5fe1447bb7b84b', 'a56fd80f4a1642e9a14fc19efda60966', '69bd4d9412629431cc4b5e5f47be4968', 'b33de15cf13b34482402698e219ba8b9', 'b2f16b9618a14ae5ee0352cb74824b18', 'e65d040e20b846220a0a8aa23fcac038', '5e8e7aca6f6689c27c82fb877ec2163b', '45be0518ee4e127bc2386b155181b603', '697ba840a19c5ea398a2b4a4ecabc609', '1402ce78f426e3141e47cbb5deb0e50f', '5594ec53cd8648f097bb2401198458d1', '1373e633e1907fafd6d050d066ad1141', '1595926c716104de12ac1225d9512386', 'd5cede9172d2510ecbfe637191ed5b15', 'b6f35b1357abe0a718d4e45d898ea670', '86f0f311adc151af5d3eb76560ac16f3', '2714bf8a7a6ece22ddf9ebf2f79aa78b', '7619dd960c417878e289fda675d1d851', '28bac6b58ef70347fbf95e7912c2c036', 'a849ac24b80dc43738f9e95bf5067303', '7439e127ff679682f8b8c17d063d302d', '6334254fe59c0cf6cb7e2a9b4b050e06', 'd0c00373f86014aa339db14e28536dfe', '0c4c62c274dba9239842b56c23978e5b', '78175fca3fc381e54d3e3c5d158a0223', '7dd4edf09a824bc2c4cac9f68fc7cafb', 'b88a4680f290cc29fa2ddbe95c5e04e4', 'd77b82450d61e49d7729142b41ea3690', 'c25a0f69d1efbe5f46975ddd91fed1c0', '7def4b9512cb41ffa37d14b58b1d928b', '53793f35c65d64fa440c6729043348ff', '9673e5cc9bb4c5a3a17e91d9ab03aff5', 'c457617aebc164ef102875d86b5dd04f', '2a6b45ba6902373aecab1b2fa27361f4', 'da6647aafc99eddb5e7229fc05fa5319', '898cb3fb86a04fada1c253f0cd8d5b07', '12dbabf7c1b76a0694657420f243d9f4', 'f230523295fcee5294fad04d860df727', '64497591db906b1a87ce9a7b5428cfbc', '1431f55adf25d20b879abfc4f442f08b', '1e7247cd1b128b37d704a6a818ae51fb', '000814a14aa663273fe5147b8e1f8ae1', '7374e72599ee4194fca82e08306be3c4', '573ca88c3e515d7ed7d9b740f4897a8b', '9bbf8cb9f83e6e284af7a143ef388283', 'dbf3325f8934e45edfd87a1177dcc122', '6393ce83ca7b107ff5f74291a3aafacb', '947b5a848d17107dddb3985ce636d5ad', '7c3d39d58f504e2c8d2493761ef4c5d2', '344db8c5754dd46e67fdd9ac25b4bd3e', '4e59228fff3ff23a68add5bc76f99ba4', '041a96b301b89540a4d52b75ada1a97f', '4e185f8922f7d1cabb80f16f118bedd7', 'bde171c8a3f0497a36a72bbc642ede86', '1b33501df51065bdbb31e2dcb11aca33', 'd8842c9f31619d8374466622cba9edc3', '4c8cd18920550e449a2155eec8b06911', '7039a6f795abb6c64b10849901aeaf0c', 'cc0f4fbc8d09fc66c47e532b649e684d', 'c106ff8a80459667bc3685af0ed6211d', 'b22e6170df02b38d8c10707d64f85fe0', '1016b7605dc3d69add7b7d5fb3976e4a', '200eeec45b90b6526a15d6887d2222a5', 'c82f4d332be3105a951fc26e2e561c18', 'bfb7fadc06ddae83fdd92d07845052a1', '1f13a9412bff6b691c6f29a619715dc2', '759aadf2aa9003f67ffd585be9d016c2', '8800e860188f8f0dae574924c973030e', 'ac4afd7ab395ddb013c759fdb0711a99', '2bdc495a720bda6958715356164a69fe', '81cf3bf96f6eb168c8443f95b2e12bb6', 'e346ebd6a25e7c85bdf99f8d90a67db3', '894570ffcac7b1abaef7d2c74cde9347', '2ad785559be2222d9f6de1c0a14d0e43', '233a3c8145ddab67cd0c9df91b88421b', 'c4197263162c8c36f013f3a5b83c7157', 'c094d5b08b9d6f53979974957604484d', '56f21e74b2cb0095ee6ef41e8615d8aa', 'e87d2c47fc5c64da47336caddd23bd40', 'd4d871cd106a83cd55973828467dcd06', 'a71883424470ac30ad0d4310477f1515', '962f02447138e6ce8de73463ac2f605e', '00b7d6871d4b9440df59f0b59023f319', '24227b89e034337dc048a558b5290b15', '81f52a27d3a0e832452c043f015aaa2c', '3f97542cfa0df97df76ecf60f55e1551', 'cd6355dafd287f7e6042cd8a5c62b70a', '87df4fa1d5ac630b4fa8ee0329630ec1', '4cf165811110d058869cf0cb365f35db', '2d707469462ff48855c61e9aca155a1f', 'a75f1b9584b4c0850a0b447c87c0f378', 'e5043dbdcb2edad4b0cae5825804cc3b', '6a90d719b97fbb05843d3062e4e82452', '2d43433f4c2072faaed2606a63f7114e', 'f271ef5884dcd9cdca62939a07e9f48e', 'b7dfd58380d95c11dae1d4eee6a01a3a', 'b0d6ec4db81c93f61dc91760c7781738', '8ad5745c99e0a62bb4963f1feb1263f3', '112b4947a50f117bd69879336365bd98', '7057cc621c681c67e97f9764658b6c1a', '0d9eb6f883da0b27f3bccb68dcce6d61', 'be0f18bc102d1216310416a5bbad6259', 'db6432cf1ded7203ab3d3803f7b2c252', '9e89d96e948a44a350d90faea257377b', 'f777b1614b20a316581b2c946682f889', '665ee841eccfc13e0b0c5900504e2021', '90b6dbc3bbef1be0de770222221814a0', '366ccec936d3f5d584ed7627b75e0b1a', 'cfd246be48483876f24ce01491f082c4', 'caa9595b31f5ba585a31adbbfb75c0c0', '27a16835fb4346433892177f420d899c', '70bfb63dd793826f14fe3618d31d7983', '0a254fce5040cc4c675b9bd5ee0ac401', '8ac13fcb4d7e654d4685f5b8010909c8', '9f928bcc467b862b0e4c96a3a8c4d425', '8bf3dc07caf823ca18df2ce0d2e53a15', '4109f0626a41185282f6dd13e980f494', 'b4b2a481494119d5a62e8edbc0ebc715', '51a723440532328282dfb023de4dae11'}\n",
      "50\n",
      "826\n",
      "El anuncio parece estar en la emisión.\n"
     ]
    }
   ],
   "source": [
    "\n",
    "import hashlib\n",
    "\n",
    "def generate_fingerprints(text, n=4):\n",
    "    \"\"\"\n",
    "    Genera fingerprints a partir de n-grams de un texto.\n",
    "    :param text: Texto de entrada\n",
    "    :param n: Tamaño de los n-grams (por ejemplo, 4 para secuencias de 4 palabras)\n",
    "    :return: Conjunto de fingerprints (hashes únicos) para los n-grams\n",
    "    \"\"\"\n",
    "    words = text.split()\n",
    "    fingerprints = set()\n",
    "    \n",
    "    # Genera n-grams y calcula un hash para cada uno\n",
    "    for i in range(len(words) - n + 1):\n",
    "        ngram = ' '.join(words[i:i + n])\n",
    "        fingerprint = hashlib.md5(ngram.encode()).hexdigest()\n",
    "        fingerprints.add(fingerprint)\n",
    "    \n",
    "    return fingerprints\n",
    "\n",
    "\n",
    "# Genera fingerprints (se puede jugar ocn la n: sale mejor resultado con n=3 que a 4, en nuestro ejemplo)\n",
    "fingerprints_anuncio = generate_fingerprints(texto_transcrito_corto, n=3)\n",
    "fingerprints_emision = generate_fingerprints(texto_transcrito_largo, n=3)\n",
    "\n",
    "print(fingerprints_anuncio)\n",
    "print(fingerprints_emision)\n",
    "print(len(fingerprints_anuncio))\n",
    "print(len(fingerprints_emision))\n",
    "\n",
    "coincidencias = fingerprints_anuncio.intersection(fingerprints_emision)\n",
    "\n",
    "if coincidencias:\n",
    "    print(\"El anuncio parece estar en la emisión.\")\n",
    "else:\n",
    "    print(\"No se detectaron coincidencias significativas.\")\n"
   ]
  },
  {
   "cell_type": "markdown",
   "metadata": {},
   "source": [
    "No sé cuál será el umbral para que coincidencias de un TRUE, pero podemos comprobar con los fingerprints, la n de coincidencias:"
   ]
  },
  {
   "cell_type": "code",
   "execution_count": 7,
   "metadata": {},
   "outputs": [
    {
     "name": "stdout",
     "output_type": "stream",
     "text": [
      "Fingerprints comunes: {'82090692b24ba24937cbb27dc8074109', '432ba0f347cf6ad97265eb2e8cd3fccd', 'd468155c70373d13f3f49f81dcccb854', '3aa17bdd2b3435ac243e76d70098259e', '048a5452fb05911d4e2729637a9a57c0', 'b23e22e15034e5e30363707134e81a4a', '1967e793560f0db775709d9f60297e66', 'dc6d390411e8917656c665582a4f1bcd', '43107349b7c6e4261f4343cd06909ca6', 'bdaab2042bcf9e29e95665dff46d8e78', '301726424f387f3178ef1dcd656adb44', '395be8d78424aeed7e1370d29e7a1101', 'f526ca4b819b36f27a58101e4af4d71f', '9c60b44aa680dfa5f43190c2db1c7cd1', '1096f964834c0e796838e2539ea5ea50', 'a1600050ce438525be20e1bd0836282b', '68ce1e3709fdc6675d2a4b17dc3e0ac8', '8cda7e6ef18da1b59bcc96a5bb8e1467', 'e5043dbdcb2edad4b0cae5825804cc3b', 'b8489970c40685af99a1cc2f881d3db9', '59d73a60299bbc5db7a203b8d85add12', 'c256423cee621130b21a79dc1d24445f', '6459344ed4ab29f8aadfeb12b8e5493a', 'd7d85675062b82f4db86902db2cb3fe0', '5a0de59ee19c98738623c575a0db107d', '8796c613128bec5b94df6e78f3053778', 'd8b66a7e9a22c7d908fecd8f8de15079', 'e9b2d47ae06422658df7c5f2fd655ac9', '6743abc047909c41a42af5b5f8145d66', '183f9d7ab3846bf9816502a533484585', 'b4f8a88685322b93dae7a7cd2495d1e2', '14aa625b503cae2b09d02f919796bf65', '087ed1cf1d00343bee75a82c6dc7cffe', '79dba599cca04caa21af81fc20b5e579', '80c14728b50b21b4fd8597ffb2518ef0', 'd8842c9f31619d8374466622cba9edc3', '674c9eda33fd4b879b20f33d883320d2', '3966b934e4fdd69f3a8772a0265927e2'}\n",
      "Número total de coincidencias de fingerprints: 38\n",
      "Porcentaje de similitud: 76.0\n"
     ]
    }
   ],
   "source": [
    "\n",
    "len(coincidencias)\n",
    "\n",
    "fingerprints_comunes = fingerprints_anuncio & fingerprints_emision\n",
    "num_coincidencias = len(fingerprints_comunes)\n",
    "porcentaje_similitud = (num_coincidencias / len(fingerprints_anuncio)) * 100\n",
    "\n",
    "# Resultados\n",
    "print(\"Fingerprints comunes:\", fingerprints_comunes)\n",
    "print(\"Número total de coincidencias de fingerprints:\", num_coincidencias)\n",
    "print(\"Porcentaje de similitud:\", porcentaje_similitud)"
   ]
  },
  {
   "cell_type": "markdown",
   "metadata": {},
   "source": [
    "No podemos decodificar los fingerprints, pero una aproximación para comprobar el texto que ha matcheado (los fingerprints que representan a ese texto): "
   ]
  },
  {
   "cell_type": "code",
   "execution_count": 8,
   "metadata": {},
   "outputs": [
    {
     "name": "stdout",
     "output_type": "stream",
     "text": [
      "Hash: 82090692b24ba24937cbb27dc8074109\n",
      "Texto coincidente del anuncio: 'no es nada' en posición 38\n",
      "Texto coincidente de la emisión: 'no es nada' en posición 271\n",
      "Hash: 432ba0f347cf6ad97265eb2e8cd3fccd\n",
      "Texto coincidente del anuncio: 'Esta humador en' en posición 10\n",
      "Texto coincidente de la emisión: 'Esta humador en' en posición 243\n",
      "Hash: d468155c70373d13f3f49f81dcccb854\n",
      "Texto coincidente del anuncio: 'el costo de' en posición 44\n",
      "Texto coincidente de la emisión: 'el costo de' en posición 277\n",
      "Hash: 048a5452fb05911d4e2729637a9a57c0\n",
      "Texto coincidente del anuncio: 'me pareció muy' en posición 15\n",
      "Texto coincidente de la emisión: 'me pareció muy' en posición 248\n",
      "Hash: 3aa17bdd2b3435ac243e76d70098259e\n",
      "Texto coincidente del anuncio: 'pareció muy bueno' en posición 16\n",
      "Texto coincidente de la emisión: 'pareció muy bueno' en posición 249\n",
      "Hash: b23e22e15034e5e30363707134e81a4a\n",
      "Texto coincidente del anuncio: 'combustión. Esta humador' en posición 9\n",
      "Texto coincidente de la emisión: 'combustión. Esta humador' en posición 242\n",
      "Hash: 1967e793560f0db775709d9f60297e66\n",
      "Texto coincidente del anuncio: 'está construido con' en posición 20\n",
      "Texto coincidente de la emisión: 'está construido con' en posición 253\n",
      "Hash: dc6d390411e8917656c665582a4f1bcd\n",
      "Texto coincidente del anuncio: 'construido con material' en posición 21\n",
      "Texto coincidente de la emisión: 'construido con material' en posición 254\n",
      "Hash: 43107349b7c6e4261f4343cd06909ca6\n",
      "Texto coincidente del anuncio: 'entrada de aire' en posición 2\n",
      "Texto coincidente de la emisión: 'entrada de aire' en posición 235\n",
      "Hash: bdaab2042bcf9e29e95665dff46d8e78\n",
      "Texto coincidente del anuncio: 'material bastante grueso' en posición 23\n",
      "Texto coincidente de la emisión: 'material bastante grueso' en posición 256\n",
      "Hash: 301726424f387f3178ef1dcd656adb44\n",
      "Texto coincidente del anuncio: 'bastante grueso como' en posición 24\n",
      "Texto coincidente de la emisión: 'bastante grueso como' en posición 257\n",
      "Hash: 395be8d78424aeed7e1370d29e7a1101\n",
      "Texto coincidente del anuncio: 'puedes apreciar por' en posición 27\n",
      "Texto coincidente de la emisión: 'puedes apreciar por' en posición 260\n",
      "Hash: f526ca4b819b36f27a58101e4af4d71f\n",
      "Texto coincidente del anuncio: 'de marcas más' en posición 48\n",
      "Texto coincidente de la emisión: 'de marcas más' en posición 281\n",
      "Hash: 3966b934e4fdd69f3a8772a0265927e2\n",
      "Texto coincidente del anuncio: 'dólares que sé' en posición 34\n",
      "Texto coincidente de la emisión: 'dólares que sé' en posición 267\n",
      "Hash: 9c60b44aa680dfa5f43190c2db1c7cd1\n",
      "Texto coincidente del anuncio: 'de aire para' en posición 3\n",
      "Texto coincidente de la emisión: 'de aire para' en posición 236\n",
      "Hash: 1096f964834c0e796838e2539ea5ea50\n",
      "Texto coincidente del anuncio: 'aire para tener' en posición 4\n",
      "Texto coincidente de la emisión: 'aire para tener' en posición 237\n",
      "Hash: 8cda7e6ef18da1b59bcc96a5bb8e1467\n",
      "Texto coincidente del anuncio: 'bueno porque está' en posición 18\n",
      "Texto coincidente de la emisión: 'bueno porque está' en posición 251\n",
      "Hash: a1600050ce438525be20e1bd0836282b\n",
      "Texto coincidente del anuncio: 'grueso como puedes' en posición 25\n",
      "Texto coincidente de la emisión: 'grueso como puedes' en posición 258\n",
      "Hash: 68ce1e3709fdc6675d2a4b17dc3e0ac8\n",
      "Texto coincidente del anuncio: 'que no es' en posición 37\n",
      "Texto coincidente de la emisión: 'que no es' en posición 270\n",
      "Hash: e5043dbdcb2edad4b0cae5825804cc3b\n",
      "Texto coincidente del anuncio: 'que sé que' en posición 35\n",
      "Texto coincidente de la emisión: 'que sé que' en posición 268\n",
      "Hash: b8489970c40685af99a1cc2f881d3db9\n",
      "Texto coincidente del anuncio: 'tener una mejor' en posición 6\n",
      "Texto coincidente de la emisión: 'tener una mejor' en posición 239\n",
      "Hash: c256423cee621130b21a79dc1d24445f\n",
      "Texto coincidente del anuncio: 'una mejor combustión.' en posición 7\n",
      "Texto coincidente de la emisión: 'una mejor combustión.' en posición 240\n",
      "Hash: 6459344ed4ab29f8aadfeb12b8e5493a\n",
      "Texto coincidente del anuncio: 'mejor combustión. Esta' en posición 8\n",
      "Texto coincidente de la emisión: 'mejor combustión. Esta' en posición 241\n",
      "Hash: d7d85675062b82f4db86902db2cb3fe0\n",
      "Texto coincidente del anuncio: 'sé que no' en posición 36\n",
      "Texto coincidente de la emisión: 'sé que no' en posición 269\n",
      "Hash: 5a0de59ee19c98738623c575a0db107d\n",
      "Texto coincidente del anuncio: '500 dólares que' en posición 33\n",
      "Texto coincidente de la emisión: '500 dólares que' en posición 266\n",
      "Hash: 8796c613128bec5b94df6e78f3053778\n",
      "Texto coincidente del anuncio: 'con material bastante' en posición 22\n",
      "Texto coincidente de la emisión: 'con material bastante' en posición 255\n",
      "Hash: d8b66a7e9a22c7d908fecd8f8de15079\n",
      "Texto coincidente del anuncio: 'particular me pareció' en posición 14\n",
      "Texto coincidente de la emisión: 'particular me pareció' en posición 247\n",
      "Hash: e9b2d47ae06422658df7c5f2fd655ac9\n",
      "Texto coincidente del anuncio: 'para tener una' en posición 5\n",
      "Texto coincidente de la emisión: 'para tener una' en posición 764\n",
      "Hash: 6743abc047909c41a42af5b5f8145d66\n",
      "Texto coincidente del anuncio: 'en lo particular' en posición 12\n",
      "Texto coincidente de la emisión: 'en lo particular' en posición 245\n",
      "Hash: 183f9d7ab3846bf9816502a533484585\n",
      "Texto coincidente del anuncio: 'porque está construido' en posición 19\n",
      "Texto coincidente de la emisión: 'porque está construido' en posición 252\n",
      "Hash: b4f8a88685322b93dae7a7cd2495d1e2\n",
      "Texto coincidente del anuncio: 'muy bueno porque' en posición 17\n",
      "Texto coincidente de la emisión: 'muy bueno porque' en posición 250\n",
      "Hash: 14aa625b503cae2b09d02f919796bf65\n",
      "Texto coincidente del anuncio: 'lo particular me' en posición 13\n",
      "Texto coincidente de la emisión: 'lo particular me' en posición 246\n",
      "Hash: 087ed1cf1d00343bee75a82c6dc7cffe\n",
      "Texto coincidente del anuncio: 'una entrada de' en posición 1\n",
      "Texto coincidente de la emisión: 'una entrada de' en posición 234\n",
      "Hash: 79dba599cca04caa21af81fc20b5e579\n",
      "Texto coincidente del anuncio: 'costó 500 dólares' en posición 32\n",
      "Texto coincidente de la emisión: 'costó 500 dólares' en posición 265\n",
      "Hash: 80c14728b50b21b4fd8597ffb2518ef0\n",
      "Texto coincidente del anuncio: 'como puedes apreciar' en posición 26\n",
      "Texto coincidente de la emisión: 'como puedes apreciar' en posición 345\n",
      "Hash: d8842c9f31619d8374466622cba9edc3\n",
      "Texto coincidente del anuncio: 'considerando el costo' en posición 43\n",
      "Texto coincidente de la emisión: 'considerando el costo' en posición 276\n",
      "Hash: 674c9eda33fd4b879b20f33d883320d2\n",
      "Texto coincidente del anuncio: 'pero considerando el' en posición 42\n",
      "Texto coincidente de la emisión: 'pero considerando el' en posición 275\n",
      "Hash: 59d73a60299bbc5db7a203b8d85add12\n",
      "Texto coincidente del anuncio: 'humador en lo' en posición 11\n",
      "Texto coincidente de la emisión: 'humador en lo' en posición 244\n"
     ]
    }
   ],
   "source": [
    "\n",
    "# Para conocer el texto que ha matcheado:\n",
    "def generar_ngrams(texto, n):\n",
    "    palabras = texto.split()\n",
    "    ngrams = []\n",
    "    for i in range(len(palabras) - n + 1):\n",
    "        ngram = \" \".join(palabras[i:i + n])\n",
    "        hash_ngram = hashlib.md5(ngram.encode()).hexdigest()\n",
    "        ngrams.append((hash_ngram, ngram, i))  # Guardamos el hash, n-grama y el índice\n",
    "    return ngrams\n",
    "\n",
    "# Generamos los n-gramas con sus posiciones\n",
    "anuncio_ngrams_pos = generar_ngrams(texto_transcrito_corto, 3)\n",
    "emision_ngrams_pos = generar_ngrams(texto_transcrito_largo, 3)\n",
    "\n",
    "# Crear diccionarios para buscar coincidencias por hash\n",
    "anuncio_hash_map_pos = {hash_val: (ngram, idx) for hash_val, ngram, idx in anuncio_ngrams_pos}\n",
    "emision_hash_map_pos = {hash_val: (ngram, idx) for hash_val, ngram, idx in emision_ngrams_pos}\n",
    "\n",
    "# Encontrar coincidencias\n",
    "coincidencias_pos = set(anuncio_hash_map_pos.keys()).intersection(emision_hash_map_pos.keys())\n",
    "\n",
    "# Mostrar coincidencias con posición\n",
    "for hash_value in coincidencias_pos:\n",
    "    anuncio_ngram, anuncio_idx = anuncio_hash_map_pos[hash_value]\n",
    "    emision_ngram, emision_idx = emision_hash_map_pos[hash_value]\n",
    "    print(f\"Hash: {hash_value}\")\n",
    "    print(f\"Texto coincidente del anuncio: '{anuncio_ngram}' en posición {anuncio_idx}\")\n",
    "    print(f\"Texto coincidente de la emisión: '{emision_ngram}' en posición {emision_idx}\")\n",
    "\n"
   ]
  },
  {
   "cell_type": "code",
   "execution_count": 9,
   "metadata": {},
   "outputs": [
    {
     "name": "stdout",
     "output_type": "stream",
     "text": [
      " Como una entrada de aire para tener una mejor combustión. Esta humador en lo particular me pareció muy bueno porque está construido con material bastante grueso como puedes apreciar por aquí. Me costó 500 dólares que sé que no es nada barato, pero considerando el costo de humadores de marcas más establecidas.\n"
     ]
    }
   ],
   "source": [
    "print(texto_transcrito_corto)"
   ]
  }
 ],
 "metadata": {
  "kernelspec": {
   "display_name": "Python 3",
   "language": "python",
   "name": "python3"
  },
  "language_info": {
   "codemirror_mode": {
    "name": "ipython",
    "version": 3
   },
   "file_extension": ".py",
   "mimetype": "text/x-python",
   "name": "python",
   "nbconvert_exporter": "python",
   "pygments_lexer": "ipython3",
   "version": "3.11.1"
  }
 },
 "nbformat": 4,
 "nbformat_minor": 2
}
