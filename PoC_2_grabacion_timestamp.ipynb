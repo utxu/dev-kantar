{
 "cells": [
  {
   "cell_type": "markdown",
   "metadata": {},
   "source": [
    "Bueno, paso a paso. Primero hemos tenido que conocer el dispositivo del pc que graba audio. He dejado una emidión de rtve1 en internet que suene en el navegador. Y después he tenido que conocer qué dispositivo reconoce/graba audio. Para ver estos dispoitvos disponibles, he ejecutado en el bash (powerhecll) el siguiente comando: \n",
    "\n",
    "ffmpeg -list_devices true -f dshow -i dummy\n",
    "\n",
    "He visto esta salida:\n",
    "\n",
    "[dshow @ 000002338a71db00] \"Microphone (Realtek(R) Audio)\" (audio)\n",
    "\n",
    "Habiendo tenido esta salida, vamos a correr el siguiente comando para grabar 10 segundos de audio como test. Recordamos que tenemos una web de rtve viendo la programacin en directo:\n",
    "\n",
    "ffmpeg -f dshow -i \"audio=Microphone (Realtek(R) Audio)\" -t 10 test.wav\n",
    "\n",
    "Efectivamente, en el directorio del bash donde he estado ejecutrando esos comandos, se ha guardado un archico .wav con la grabación. \n",
    "\n",
    "Ahora, pues, vayamos a correr el script que debe ir guardando el audio con un timestamp:\n",
    "\n"
   ]
  },
  {
   "cell_type": "code",
   "execution_count": null,
   "metadata": {},
   "outputs": [],
   "source": [
    "import os\n",
    "import datetime\n",
    "import subprocess\n",
    "import time \n",
    "\n",
    "def grabar_audio_con_timestamps(duracion_segundos, archivo_salida=\"emision_audio.wav\", intervalos=10):\n",
    "    \"\"\"Graba audio y guarda timestamps en un archivo separado.\"\"\"\n",
    "    timestamp_inicial = datetime.datetime.now().strftime('%Y%m%d_%H%M%S')\n",
    "    archivo_audio = f\"{timestamp_inicial}_{archivo_salida}\"\n",
    "    archivo_timestamps = f\"{timestamp_inicial}_timestamps.txt\"\n",
    "\n",
    "    print(f\"Grabando audio con timestamps... Duración: {duracion_segundos} segundos\")\n",
    "\n",
    "    # Iniciar FFmpeg en un proceso separado\n",
    "    comando = [\n",
    "        \"ffmpeg\",\n",
    "        \"-f\", \"dshow\",\n",
    "        \"-i\", \"audio=Stereo Mix (Realtek High Definition Audio)\",\n",
    "        \"-t\", str(duracion_segundos),\n",
    "        archivo_audio\n",
    "    ]\n",
    "    proceso = subprocess.Popen(comando, stdout=subprocess.DEVNULL, stderr=subprocess.DEVNULL)\n",
    "\n",
    "    # Generar y guardar timestamps mientras FFmpeg graba\n",
    "    with open(archivo_timestamps, \"w\") as f:\n",
    "        inicio = datetime.datetime.now()\n",
    "        while (datetime.datetime.now() - inicio).seconds < duracion_segundos:\n",
    "            timestamp = datetime.datetime.now().strftime('%Y-%m-%d %H:%M:%S')\n",
    "            f.write(f\"{timestamp}\\n\")\n",
    "            print(f\"Timestamp registrado: {timestamp}\")\n",
    "            time.sleep(intervalos)\n",
    "\n",
    "    proceso.wait()  # Esperar a que FFmpeg termine\n",
    "    print(f\"Grabación y timestamps completados. Archivos: {archivo_audio}, {archivo_timestamps}\")\n",
    "    return archivo_audio, archivo_timestamps\n"
   ]
  },
  {
   "cell_type": "code",
   "execution_count": 8,
   "metadata": {},
   "outputs": [
    {
     "name": "stdout",
     "output_type": "stream",
     "text": [
      "Timestamp registrado: 2024-11-21 23:39:00.641187 - 0.00 segundos\n",
      "Timestamp registrado: 2024-11-21 23:39:05.643660 - 5.00 segundos\n",
      "Timestamp registrado: 2024-11-21 23:39:10.644144 - 10.00 segundos\n",
      "Timestamp registrado: 2024-11-21 23:39:15.664218 - 15.02 segundos\n",
      "Timestamp registrado: 2024-11-21 23:39:20.665005 - 20.02 segundos\n",
      "Timestamp registrado: 2024-11-21 23:39:25.665276 - 25.02 segundos\n",
      "Timestamp registrado: 2024-11-21 23:39:30.665668 - 30.02 segundos\n",
      "Timestamp registrado: 2024-11-21 23:39:35.666156 - 35.02 segundos\n",
      "Timestamp registrado: 2024-11-21 23:39:40.666504 - 40.03 segundos\n",
      "Timestamp registrado: 2024-11-21 23:39:45.667345 - 45.03 segundos\n",
      "Timestamp registrado: 2024-11-21 23:39:50.667952 - 50.03 segundos\n",
      "Timestamp registrado: 2024-11-21 23:39:55.668659 - 55.03 segundos\n",
      "Timestamp registrado: 2024-11-21 23:40:00.669493 - 60.03 segundos\n",
      "Grabación y timestamps completados. Archivos: web_emision.wav, web_emision_timestamps.txt\n"
     ]
    }
   ],
   "source": [
    "grabar_audio_con_timestamps(60, \"web_emision.wav\", 5)\n"
   ]
  },
  {
   "cell_type": "markdown",
   "metadata": {},
   "source": [
    "Se ha guardado un audio pero es lo capturado por le micrófono, lo cual no ha captado nada de la emision de tve que tenía en la web. Además ha guardado un -txt de los timestamps cada 5 segundos, pero no se puede relacionar con la grabación. Vamos apreguntarlo como hacerlo, que posiblmeente será guardar archivos de audio con el timestamp impregnado en su nombre:"
   ]
  },
  {
   "cell_type": "code",
   "execution_count": null,
   "metadata": {},
   "outputs": [
    {
     "name": "stdout",
     "output_type": "stream",
     "text": [
      "Grabando: grabaciones\\audio_20241122_000632.wav\n",
      "Error al grabar el archivo grabaciones\\audio_20241122_000632.wav. Verifica el dispositivo de entrada.\n",
      "Grabación total completada.\n"
     ]
    }
   ],
   "source": [
    "import subprocess\n",
    "import time\n",
    "from datetime import datetime\n",
    "\n",
    "def grabar_audio_segmentado(duracion_segmento, duracion_total, carpeta_salida=\"grabaciones\"):\n",
    "    \"\"\"\n",
    "    Graba audio en segmentos de tiempo definidos, nombrando los archivos con la hora local.\n",
    "    \n",
    "    Args:\n",
    "        duracion_segmento (int): Duración de cada segmento en segundos.\n",
    "        duracion_total (int): Duración total de la grabación en segundos.\n",
    "        carpeta_salida (str): Carpeta donde se guardarán los archivos de audio.\n",
    "    \"\"\"\n",
    "    import os\n",
    "\n",
    "    # Crear la carpeta si no existe\n",
    "    if not os.path.exists(carpeta_salida):\n",
    "        os.makedirs(carpeta_salida)\n",
    "\n",
    "    tiempo_inicial = time.time()\n",
    "    while time.time() - tiempo_inicial < duracion_total:\n",
    "        # Obtener timestamp actual para el nombre del archivo\n",
    "        timestamp = datetime.now().strftime(\"%Y%m%d_%H%M%S\")\n",
    "        nombre_archivo = os.path.join(carpeta_salida, f\"audio_{timestamp}.wav\")\n",
    "\n",
    "        # Comando FFmpeg para grabar el audio\n",
    "        comando = [\n",
    "            \"ffmpeg\",\n",
    "            \"-f\", \"dshow\",                   # Modo de entrada directa\n",
    "            \"-i\", \"audio=\\\"Microphone (Realtek(R) Audio)\\\"\",  # Dispositivo de entrada\n",
    "            \"-t\", str(duracion_segmento),    # Duración del segmento\n",
    "            \"-y\",                            # Sobrescribir archivos existentes\n",
    "            nombre_archivo\n",
    "        ]\n",
    "\n",
    "        print(f\"Grabando: {nombre_archivo}\")\n",
    "        proceso = subprocess.run(comando, stdout=subprocess.DEVNULL, stderr=subprocess.DEVNULL)\n",
    "\n",
    "        if proceso.returncode != 0:\n",
    "            print(f\"Error al grabar el archivo {nombre_archivo}. Verifica el dispositivo de entrada.\")\n",
    "            break\n",
    "\n",
    "        print(f\"Grabación completada: {nombre_archivo}\")\n",
    "\n",
    "    print(\"Grabación total completada.\")\n",
    "\n",
    "\n"
   ]
  },
  {
   "cell_type": "code",
   "execution_count": 10,
   "metadata": {},
   "outputs": [
    {
     "name": "stdout",
     "output_type": "stream",
     "text": [
      "Grabando: grabaciones\\audio_20241122_000704.wav\n",
      "Error al grabar el archivo grabaciones\\audio_20241122_000704.wav. Verifica el dispositivo de entrada.\n",
      "Grabación total completada.\n"
     ]
    }
   ],
   "source": [
    "grabar_audio_segmentado(duracion_segmento=10, duracion_total=60)\n"
   ]
  },
  {
   "cell_type": "markdown",
   "metadata": {},
   "source": [
    "Vale, bueno, he conseguido que una emisión que sunee en mi pc se grabe en un audio perfectamente. Esto es, configurando la grabacion de sonido en Stereo Mix a través de windows. El video en el que he podido aprender esto es el siguiente: https://www.youtube.com/watch?v=xhuwo-q0fEY\n",
    "\n",
    "EN la primera parte del video explica como hacerlo. Al realizarlo y al ejecutar el comando anterior en la powershell se ha visualizado el dispositvo configurado:\n",
    "\n",
    "ffmpeg -list_devices true -f dshow -i dummy\n",
    "\n",
    "con este comnado hemos comprobado que existía el Stereo Mix después de haber seguido los passos del video. Por lo que hemos ejecutado de nuevo el siguiente comando:\n",
    "\n",
    "ffmpeg -f dshow -i \"audio=Stereo Mix (Realtek(R) Audio)\" -t 10 test.wav\n",
    "\n",
    "Y hemos recibido una graabación impecable de lo que queríamos: capturar el audio de un video ejecutado en el navegador.\n",
    "\n",
    "Ahora, vamos a ejecutar el script de python a ver cómo funciona:\n",
    "\n",
    "Vemos que el 'dispositivo' Stereo Mix lo hemos insertado en la siguiente líena del código:\n",
    "\n",
    " \"-i\", \"audio=Stereo Mix (Realtek(R) Audio)\",  # Cambia por tu dispositivo\n",
    "\n",
    " Corramos el script de python:\n",
    "\n",
    "\n",
    "\n"
   ]
  },
  {
   "cell_type": "code",
   "execution_count": 1,
   "metadata": {},
   "outputs": [],
   "source": [
    "import os\n",
    "import subprocess\n",
    "import time\n",
    "from datetime import datetime  # Asegúrate de importar correctamente\n",
    "\n",
    "def grabar_audio_segmentado(duracion_segmento=10, duracion_total=60, carpeta_salida=\"grabaciones\"):\n",
    "    # Crear la carpeta si no existe\n",
    "    if not os.path.exists(carpeta_salida):\n",
    "        os.makedirs(carpeta_salida)\n",
    "    \n",
    "    tiempo_inicial = time.time()\n",
    "    while time.time() - tiempo_inicial < duracion_total:\n",
    "        # Obtener timestamp actual para el nombre del archivo\n",
    "        timestamp = datetime.now().strftime(\"%Y%m%d_%H%M%S\")\n",
    "        nombre_archivo = os.path.join(carpeta_salida, f\"audio_{timestamp}.wav\")\n",
    "        \n",
    "        # Comando FFmpeg para grabar el audio\n",
    "        comando = [\n",
    "            \"ffmpeg\",\n",
    "            \"-f\", \"dshow\",\n",
    "            \"-i\", \"audio=Stereo Mix (Realtek(R) Audio)\",  # Cambia por tu dispositivo\n",
    "            \"-t\", str(duracion_segmento),\n",
    "            \"-y\", nombre_archivo\n",
    "        ]\n",
    "        \n",
    "        # Ejecutar el comando FFmpeg\n",
    "        print(f\"Grabando segmento: {nombre_archivo}\")\n",
    "        subprocess.run(comando, stdout=subprocess.DEVNULL, stderr=subprocess.DEVNULL)\n",
    "    \n",
    "    print(\"Grabación completada.\")\n",
    "\n",
    "\n",
    "\n"
   ]
  },
  {
   "cell_type": "code",
   "execution_count": 2,
   "metadata": {},
   "outputs": [
    {
     "name": "stdout",
     "output_type": "stream",
     "text": [
      "Grabando segmento: grabaciones\\audio_20241123_011449.wav\n",
      "Grabando segmento: grabaciones\\audio_20241123_011500.wav\n",
      "Grabando segmento: grabaciones\\audio_20241123_011511.wav\n",
      "Grabando segmento: grabaciones\\audio_20241123_011523.wav\n",
      "Grabando segmento: grabaciones\\audio_20241123_011534.wav\n",
      "Grabando segmento: grabaciones\\audio_20241123_011545.wav\n",
      "Grabación completada.\n"
     ]
    }
   ],
   "source": [
    "grabar_audio_segmentado(duracion_segmento=10, duracion_total=60)"
   ]
  },
  {
   "cell_type": "code",
   "execution_count": null,
   "metadata": {},
   "outputs": [],
   "source": []
  },
  {
   "cell_type": "markdown",
   "metadata": {},
   "source": [
    "Muy bien, he conseguido grabar audio que se ejecutaba en la web (aunque puede ser cualeuir audio que se ejecute en el epc) y guardarlo en una carpeta que luego querremos transcribir. La prueba de conceto número 2 (dos) puede considerrse terminada. \n",
    "\n",
    "Ya podemos grabar cualquier audio en el pc y guardarlo como archivo fraccinado de 10 segundos. La siguietne prueba es a la vez que guardamos en archivo, transcirbirlo segun se vaya guardando. Una vez transcrito, guardarlo también. \n",
    "\n",
    "Y la siguietne prueba de conepto, debería ser, cómo eficientamos el guardado de las transcripciones. Pero para no adelantarnos, siguietne objetivo: grabar audio > transcribir > guardar transcripción. La transcripción la guardaremos en un formato de texto en la siguiente PoC, sin embargo, el objetivo más adelante es guardarle en un objeto más adecuado e incluso, en una BBDD."
   ]
  }
 ],
 "metadata": {
  "kernelspec": {
   "display_name": "Python 3",
   "language": "python",
   "name": "python3"
  },
  "language_info": {
   "codemirror_mode": {
    "name": "ipython",
    "version": 3
   },
   "file_extension": ".py",
   "mimetype": "text/x-python",
   "name": "python",
   "nbconvert_exporter": "python",
   "pygments_lexer": "ipython3",
   "version": "3.11.1"
  }
 },
 "nbformat": 4,
 "nbformat_minor": 2
}
